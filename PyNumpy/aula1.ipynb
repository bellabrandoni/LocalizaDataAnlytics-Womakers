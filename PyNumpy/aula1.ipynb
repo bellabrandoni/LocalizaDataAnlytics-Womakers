{
 "cells": [
  {
   "cell_type": "code",
   "execution_count": 2,
   "metadata": {},
   "outputs": [
    {
     "data": {
      "text/plain": [
       "array([1, 2, 2, 3, 4, 5, 6])"
      ]
     },
     "execution_count": 2,
     "metadata": {},
     "output_type": "execute_result"
    }
   ],
   "source": [
    "import numpy as np\n",
    "#criando array a partrir de uma lista \n",
    "l =[1,2,2,3,4,5,6]\n",
    "\n",
    "#tornando a lista um objeto tipo numpy\n",
    "arr = np.array(l)\n",
    "#printando o array\n",
    "arr"
   ]
  },
  {
   "cell_type": "code",
   "execution_count": 13,
   "metadata": {},
   "outputs": [
    {
     "data": {
      "text/plain": [
       "array([[0.7129573 , 0.35357774, 0.68735113],\n",
       "       [0.08786371, 0.34811172, 0.05281909],\n",
       "       [0.174641  , 0.44289817, 0.40879629]])"
      ]
     },
     "execution_count": 13,
     "metadata": {},
     "output_type": "execute_result"
    }
   ],
   "source": [
    "            ##criando um numpy array do zero\n",
    "#recebe uma tipla no parametro - linhas e colunas \n",
    "# todos os elementos serão zero\n",
    "np.zeros((3,2))\n",
    "\n",
    "#Gera uma sequência de números igualmente espa\n",
    "# çados dentro de um intervalo.\n",
    "# starté o valor inicial, stop é o limite (exclusivo) e stepdefine o incremento.\n",
    "\n",
    "np.arange(1,11)\n",
    "#inserindo arange dentro de uma variavel\n",
    "arr_arrange = np.arange(1,11)\n",
    "\n",
    "#printando a variavel\n",
    "arr_arrange\n",
    "#descobrindo o tipo da variavel\n",
    "type(arr_arrange)\n",
    "\n",
    "#Gera um array de números aleatórios(randomicos) entre 0 e 1. Receb uma tupla como parametro.\n",
    "#O parâmetro size define o formato do array.\n",
    "\n",
    "np.random.random((3, 3))"
   ]
  }
 ],
 "metadata": {
  "kernelspec": {
   "display_name": "Python 3",
   "language": "python",
   "name": "python3"
  },
  "language_info": {
   "codemirror_mode": {
    "name": "ipython",
    "version": 3
   },
   "file_extension": ".py",
   "mimetype": "text/x-python",
   "name": "python",
   "nbconvert_exporter": "python",
   "pygments_lexer": "ipython3",
   "version": "3.11.9"
  }
 },
 "nbformat": 4,
 "nbformat_minor": 2
}
