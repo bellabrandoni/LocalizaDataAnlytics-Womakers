{
 "cells": [
  {
   "cell_type": "markdown",
   "metadata": {},
   "source": [
    "# Concatenação "
   ]
  },
  {
   "cell_type": "code",
   "execution_count": 4,
   "metadata": {},
   "outputs": [],
   "source": [
    "#criando cartela bingo\n",
    "import numpy as np\n"
   ]
  },
  {
   "cell_type": "code",
   "execution_count": 25,
   "metadata": {},
   "outputs": [
    {
     "data": {
      "text/plain": [
       "array([[14, 14, 58, 15],\n",
       "       [38, 46, 11, 29],\n",
       "       [53, 22, 17, 53],\n",
       "       [56, 52, 37, 46]], dtype=int32)"
      ]
     },
     "execution_count": 25,
     "metadata": {},
     "output_type": "execute_result"
    }
   ],
   "source": [
    "#criando cartela bingo\n",
    "#numero min = 1 e numero maximo 60, 4 linhas e 4 colunas\n",
    "cartela_bingo = np.random.randint(1, 60, size=(4, 4))\n",
    "cartela_bingo"
   ]
  },
  {
   "cell_type": "code",
   "execution_count": 26,
   "metadata": {},
   "outputs": [
    {
     "data": {
      "text/plain": [
       "array([[14, 14, 58, 15],\n",
       "       [38, 46, 11, 29],\n",
       "       [53, 22, 17, 53]], dtype=int32)"
      ]
     },
     "execution_count": 26,
     "metadata": {},
     "output_type": "execute_result"
    }
   ],
   "source": [
    "#mostrando toda a cartela menos a ultima linha da tabela de bingo\n",
    "cartela_bingo1 = cartela_bingo[:3]\n",
    "cartela_bingo1"
   ]
  },
  {
   "cell_type": "code",
   "execution_count": 27,
   "metadata": {},
   "outputs": [
    {
     "data": {
      "text/plain": [
       "array([[56, 52, 37, 46]], dtype=int32)"
      ]
     },
     "execution_count": 27,
     "metadata": {},
     "output_type": "execute_result"
    }
   ],
   "source": [
    "#mostrando a ultima linha da tabela de bingo que foi excluida anteriormente\n",
    "cartela_bingo2 = cartela_bingo[-1:]\n",
    "cartela_bingo2"
   ]
  },
  {
   "cell_type": "code",
   "execution_count": 28,
   "metadata": {},
   "outputs": [
    {
     "data": {
      "text/plain": [
       "array([[14, 14, 58, 15],\n",
       "       [38, 46, 11, 29],\n",
       "       [53, 22, 17, 53],\n",
       "       [56, 52, 37, 46]], dtype=int32)"
      ]
     },
     "execution_count": 28,
     "metadata": {},
     "output_type": "execute_result"
    }
   ],
   "source": [
    "#concatenando as duas tabelas \n",
    "np.concatenate((cartela_bingo1, cartela_bingo2))"
   ]
  },
  {
   "cell_type": "code",
   "execution_count": 29,
   "metadata": {},
   "outputs": [
    {
     "data": {
      "text/plain": [
       "array([[ True,  True,  True,  True],\n",
       "       [ True,  True,  True,  True],\n",
       "       [ True,  True,  True,  True],\n",
       "       [ True,  True,  True,  True]])"
      ]
     },
     "execution_count": 29,
     "metadata": {},
     "output_type": "execute_result"
    }
   ],
   "source": [
    "#valiodando se a cartela de bingo é igual a tabela concatenada \n",
    "cartela_bingo == np.concatenate((cartela_bingo1, cartela_bingo2))"
   ]
  },
  {
   "cell_type": "code",
   "execution_count": 31,
   "metadata": {},
   "outputs": [],
   "source": [
    "##Criando exemplo da sala de espera com numeros de senha \n",
    "#np.random.randint(1, 40, size=(4, 3))\n",
    "\n",
    "sala_espera = np.array(([[38, 24,  3, 'Alice'],\n",
    "                        [ 7,  2, 13, 'Bob'],\n",
    "                        [30, 14, 37, 'Cris'],\n",
    "                        [12,  5, 29, 'Luiz']]))"
   ]
  },
  {
   "cell_type": "code",
   "execution_count": 32,
   "metadata": {},
   "outputs": [
    {
     "data": {
      "text/plain": [
       "array([['38', '24', '3', 'Alice'],\n",
       "       ['7', '2', '13', 'Bob'],\n",
       "       ['30', '14', '37', 'Cris']], dtype='<U21')"
      ]
     },
     "execution_count": 32,
     "metadata": {},
     "output_type": "execute_result"
    }
   ],
   "source": [
    "#eliminando Luiz da sala de espera\n",
    "#selecionando array sala de espera, selecionando a quarta linha(3) e selecionando o eixo x = 0\n",
    "np.delete(sala_espera, 3, axis=0)"
   ]
  }
 ],
 "metadata": {
  "kernelspec": {
   "display_name": "Python 3",
   "language": "python",
   "name": "python3"
  },
  "language_info": {
   "codemirror_mode": {
    "name": "ipython",
    "version": 3
   },
   "file_extension": ".py",
   "mimetype": "text/x-python",
   "name": "python",
   "nbconvert_exporter": "python",
   "pygments_lexer": "ipython3",
   "version": "3.11.9"
  }
 },
 "nbformat": 4,
 "nbformat_minor": 2
}
