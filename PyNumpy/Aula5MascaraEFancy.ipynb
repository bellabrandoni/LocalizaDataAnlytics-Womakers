{
 "cells": [
  {
   "cell_type": "markdown",
   "metadata": {},
   "source": [
    "## Filtando Arrays\n"
   ]
  },
  {
   "cell_type": "code",
   "execution_count": 1,
   "metadata": {},
   "outputs": [],
   "source": [
    "import numpy as np"
   ]
  },
  {
   "cell_type": "code",
   "execution_count": 3,
   "metadata": {},
   "outputs": [
    {
     "data": {
      "text/plain": [
       "array([False, False,  True, False, False])"
      ]
     },
     "execution_count": 3,
     "metadata": {},
     "output_type": "execute_result"
    }
   ],
   "source": [
    "arr1 = np.array([1, 2, 3, 4, 5])\n",
    "\n",
    "#selecionando na mascara apenas valores que a divisão tenha como resto == 0\n",
    "mask = arr1 % 3 == 0\n",
    "mask"
   ]
  },
  {
   "cell_type": "code",
   "execution_count": 9,
   "metadata": {},
   "outputs": [
    {
     "data": {
      "text/plain": [
       "array([[ 3, 27],\n",
       "       [ 4, 26]])"
      ]
     },
     "execution_count": 9,
     "metadata": {},
     "output_type": "execute_result"
    }
   ],
   "source": [
    "pessoas_id = np.array([[1, 18], [2, 21], [3, 27], [4, 26]])\n",
    "\n",
    "## selecionando maiores de 21 anos - selecionando primeiro a segunda coluna [1]\n",
    "pessoas_id[:, 1] > 21\n",
    "\n"
   ]
  },
  {
   "cell_type": "code",
   "execution_count": 12,
   "metadata": {},
   "outputs": [],
   "source": [
    "#passando a mascara\n",
    "mask_maior_21 = pessoas_id[:, 1] > 21"
   ]
  },
  {
   "cell_type": "code",
   "execution_count": 11,
   "metadata": {},
   "outputs": [
    {
     "data": {
      "text/plain": [
       "array([[ 3, 27],\n",
       "       [ 4, 26]])"
      ]
     },
     "execution_count": 11,
     "metadata": {},
     "output_type": "execute_result"
    }
   ],
   "source": [
    "#mostrando os arrays maior de 21\n",
    "pessoas_id[mask_maior_21]"
   ]
  },
  {
   "cell_type": "code",
   "execution_count": 13,
   "metadata": {},
   "outputs": [
    {
     "data": {
      "text/plain": [
       "(array([2, 3]),)"
      ]
     },
     "execution_count": 13,
     "metadata": {},
     "output_type": "execute_result"
    }
   ],
   "source": [
    "#selecionando apenas os indices\n",
    "np.where(mask_maior_21)"
   ]
  },
  {
   "cell_type": "code",
   "execution_count": 17,
   "metadata": {},
   "outputs": [
    {
     "data": {
      "text/plain": [
       "array([['1', '18'],\n",
       "       ['2', '21'],\n",
       "       ['3', 'maior de idade '],\n",
       "       ['4', 'maior de idade ']], dtype='<U21')"
      ]
     },
     "execution_count": 17,
     "metadata": {},
     "output_type": "execute_result"
    }
   ],
   "source": [
    "#substituindo numeros por 'maior de idade ' se a condição do id for maior que 21\n",
    "\n",
    "np.where(pessoas_id > 21, 'maior de idade ', pessoas_id)"
   ]
  },
  {
   "cell_type": "code",
   "execution_count": 15,
   "metadata": {},
   "outputs": [],
   "source": [
    "cartela_bingo = np.array([[ 4, 19, 17,  1],\n",
    "                            [19, 18, 14, 10],\n",
    "                            [10,  6,  3,  1],\n",
    "                            [12,  3,  5,  3]])\n"
   ]
  },
  {
   "cell_type": "code",
   "execution_count": null,
   "metadata": {},
   "outputs": [
    {
     "data": {
      "text/plain": [
       "array([['4', '19', '17', '1'],\n",
       "       ['19', 'div 3', '14', '10'],\n",
       "       ['10', 'div 3', 'div 3', '1'],\n",
       "       ['div 3', 'div 3', '5', 'div 3']], dtype='<U21')"
      ]
     },
     "execution_count": 16,
     "metadata": {},
     "output_type": "execute_result"
    }
   ],
   "source": [
    "#substituindo tudo o que for divisivel por um texto 'div3 em cartela bingo se a condição for verdadeira\n",
    "np.where(cartela_bingo % 3 == 0, 'div 3', cartela_bingo)"
   ]
  }
 ],
 "metadata": {
  "kernelspec": {
   "display_name": "Python 3",
   "language": "python",
   "name": "python3"
  },
  "language_info": {
   "codemirror_mode": {
    "name": "ipython",
    "version": 3
   },
   "file_extension": ".py",
   "mimetype": "text/x-python",
   "name": "python",
   "nbconvert_exporter": "python",
   "pygments_lexer": "ipython3",
   "version": "3.11.9"
  }
 },
 "nbformat": 4,
 "nbformat_minor": 2
}
