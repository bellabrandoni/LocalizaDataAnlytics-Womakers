{
 "cells": [
  {
   "cell_type": "markdown",
   "metadata": {},
   "source": [
    "# Desafio 4: InsectSprays"
   ]
  },
  {
   "cell_type": "markdown",
   "metadata": {},
   "source": [
    "### Definição do problema: Dado que você está trabalhando num laboratório de inseticidas. Você precisa fazer uma pesquisa em todos os sprays e verificar qual jogo é o mais eficaz.\n",
    "\n",
    "#### Código do dataset: InsectSprays"
   ]
  },
  {
   "cell_type": "markdown",
   "metadata": {},
   "source": [
    "#### 1.Calcule o número total de insetos mortos (count) por tipo de spray (spray).\n",
    "\n",
    "\n"
   ]
  },
  {
   "cell_type": "code",
   "execution_count": 3,
   "metadata": {},
   "outputs": [],
   "source": [
    "#importando biblioteca pydataset\n",
    "from pydataset import data\n",
    "\n",
    "#importando biblioteca pandas\n",
    "import pandas as pd"
   ]
  },
  {
   "cell_type": "code",
   "execution_count": 4,
   "metadata": {},
   "outputs": [],
   "source": [
    "#carregando dataset InsectSpray\n",
    "df = data(\"InsectSprays\")\n",
    "#verificando numero de linhas na tabela InsectSprays\n",
    "#df.shape[0]\n",
    "#df.columns\n",
    "#verificando nome de todas as colunas da tabela InsectSprays\n",
    "#df.columns.tolist()"
   ]
  },
  {
   "cell_type": "code",
   "execution_count": 5,
   "metadata": {},
   "outputs": [
    {
     "data": {
      "text/html": [
       "<div>\n",
       "<style scoped>\n",
       "    .dataframe tbody tr th:only-of-type {\n",
       "        vertical-align: middle;\n",
       "    }\n",
       "\n",
       "    .dataframe tbody tr th {\n",
       "        vertical-align: top;\n",
       "    }\n",
       "\n",
       "    .dataframe thead th {\n",
       "        text-align: right;\n",
       "    }\n",
       "</style>\n",
       "<table border=\"1\" class=\"dataframe\">\n",
       "  <thead>\n",
       "    <tr style=\"text-align: right;\">\n",
       "      <th></th>\n",
       "      <th>count</th>\n",
       "      <th>spray</th>\n",
       "    </tr>\n",
       "  </thead>\n",
       "  <tbody>\n",
       "    <tr>\n",
       "      <th>1</th>\n",
       "      <td>10</td>\n",
       "      <td>A</td>\n",
       "    </tr>\n",
       "    <tr>\n",
       "      <th>2</th>\n",
       "      <td>7</td>\n",
       "      <td>A</td>\n",
       "    </tr>\n",
       "    <tr>\n",
       "      <th>3</th>\n",
       "      <td>20</td>\n",
       "      <td>A</td>\n",
       "    </tr>\n",
       "    <tr>\n",
       "      <th>4</th>\n",
       "      <td>14</td>\n",
       "      <td>A</td>\n",
       "    </tr>\n",
       "    <tr>\n",
       "      <th>5</th>\n",
       "      <td>14</td>\n",
       "      <td>A</td>\n",
       "    </tr>\n",
       "  </tbody>\n",
       "</table>\n",
       "</div>"
      ],
      "text/plain": [
       "   count spray\n",
       "1     10     A\n",
       "2      7     A\n",
       "3     20     A\n",
       "4     14     A\n",
       "5     14     A"
      ]
     },
     "execution_count": 5,
     "metadata": {},
     "output_type": "execute_result"
    }
   ],
   "source": [
    "#copiando base de dados para nova variante df_pesquisa\n",
    "df_pesquisa = df.copy()\n",
    "\n",
    "#lendo as 5 primeiras linhas da planilha\n",
    "df_pesquisa.head()"
   ]
  },
  {
   "cell_type": "code",
   "execution_count": 6,
   "metadata": {},
   "outputs": [],
   "source": [
    "#renomeando colunas \n",
    "novas_colunas = {'count': 'Insetos mortos',\n",
    "                 'spray': 'Tipo de spray'\n",
    "                }\n",
    "\n",
    "#aplicando função rename para a variante novas_colunas\n",
    "df_pesquisa.rename(columns=novas_colunas, inplace=True)\n"
   ]
  },
  {
   "cell_type": "code",
   "execution_count": 7,
   "metadata": {},
   "outputs": [
    {
     "data": {
      "text/html": [
       "<div>\n",
       "<style scoped>\n",
       "    .dataframe tbody tr th:only-of-type {\n",
       "        vertical-align: middle;\n",
       "    }\n",
       "\n",
       "    .dataframe tbody tr th {\n",
       "        vertical-align: top;\n",
       "    }\n",
       "\n",
       "    .dataframe thead th {\n",
       "        text-align: right;\n",
       "    }\n",
       "</style>\n",
       "<table border=\"1\" class=\"dataframe\">\n",
       "  <thead>\n",
       "    <tr style=\"text-align: right;\">\n",
       "      <th></th>\n",
       "      <th>Insetos mortos</th>\n",
       "      <th>Tipo de spray</th>\n",
       "    </tr>\n",
       "  </thead>\n",
       "  <tbody>\n",
       "    <tr>\n",
       "      <th>1</th>\n",
       "      <td>10</td>\n",
       "      <td>A</td>\n",
       "    </tr>\n",
       "    <tr>\n",
       "      <th>2</th>\n",
       "      <td>7</td>\n",
       "      <td>A</td>\n",
       "    </tr>\n",
       "    <tr>\n",
       "      <th>3</th>\n",
       "      <td>20</td>\n",
       "      <td>A</td>\n",
       "    </tr>\n",
       "    <tr>\n",
       "      <th>4</th>\n",
       "      <td>14</td>\n",
       "      <td>A</td>\n",
       "    </tr>\n",
       "    <tr>\n",
       "      <th>5</th>\n",
       "      <td>14</td>\n",
       "      <td>A</td>\n",
       "    </tr>\n",
       "  </tbody>\n",
       "</table>\n",
       "</div>"
      ],
      "text/plain": [
       "   Insetos mortos Tipo de spray\n",
       "1              10             A\n",
       "2               7             A\n",
       "3              20             A\n",
       "4              14             A\n",
       "5              14             A"
      ]
     },
     "execution_count": 7,
     "metadata": {},
     "output_type": "execute_result"
    }
   ],
   "source": [
    "df_pesquisa.head()"
   ]
  },
  {
   "cell_type": "code",
   "execution_count": 8,
   "metadata": {},
   "outputs": [
    {
     "data": {
      "text/plain": [
       "array(['A', 'B', 'C', 'D', 'E', 'F'], dtype=object)"
      ]
     },
     "execution_count": 8,
     "metadata": {},
     "output_type": "execute_result"
    }
   ],
   "source": [
    "#consultando valores unicos na coluna Tipo de spray\n",
    "df_pesquisa['Tipo de spray'].unique()"
   ]
  },
  {
   "cell_type": "code",
   "execution_count": 16,
   "metadata": {},
   "outputs": [
    {
     "name": "stdout",
     "output_type": "stream",
     "text": [
      "Tipo de spray\n",
      "A    174\n",
      "B    184\n",
      "C     25\n",
      "D     59\n",
      "E     42\n",
      "F    200\n",
      "Name: Insetos mortos, dtype: int64\n"
     ]
    }
   ],
   "source": [
    "# Agrupando por tipo de spray e somando os insetos mortos\n",
    "\n",
    "total_insetos_spray = df_pesquisa.groupby('Tipo de spray')['Insetos mortos'].sum()\n",
    "print(total_insetos_spray)"
   ]
  },
  {
   "cell_type": "markdown",
   "metadata": {},
   "source": [
    "#### 2. Identifique qual spray foi o mais eficaz em matar insetos.\n"
   ]
  },
  {
   "cell_type": "code",
   "execution_count": 12,
   "metadata": {},
   "outputs": [
    {
     "name": "stdout",
     "output_type": "stream",
     "text": [
      "O spray mais eficaz é o tipo : F\n"
     ]
    }
   ],
   "source": [
    "# Agrupando por tipo de spray(.grouoby()) e somando os insetos mortos com .sum()\n",
    "#idxmax() - Identifique o índice (neste caso, o tipo de spray) que possui o maior valor na soma dos insetos mortos.\n",
    "\n",
    "\n",
    "spray_eficaz = df_pesquisa.groupby('Tipo de spray')['Insetos mortos'].sum().idxmax()\n",
    "print(f'O spray mais eficaz é o tipo : {spray_eficaz}')"
   ]
  },
  {
   "cell_type": "markdown",
   "metadata": {},
   "source": [
    "#### 3. Calcule a média geral e filtre os dados para mostrar apenas sprays com eficácia acima da média.\n"
   ]
  },
  {
   "cell_type": "code",
   "execution_count": 17,
   "metadata": {},
   "outputs": [
    {
     "data": {
      "text/plain": [
       "np.float64(114.0)"
      ]
     },
     "execution_count": 17,
     "metadata": {},
     "output_type": "execute_result"
    }
   ],
   "source": [
    "#criando variavel media que calcula a media a partir da variavel total\n",
    "media = total_insetos_spray.mean()\n",
    "media"
   ]
  },
  {
   "cell_type": "code",
   "execution_count": 18,
   "metadata": {},
   "outputs": [
    {
     "name": "stdout",
     "output_type": "stream",
     "text": [
      "Os sprays com eficácia acima da média são:\n",
      "Tipo de spray\n",
      "A    174\n",
      "B    184\n",
      "F    200\n",
      "Name: Insetos mortos, dtype: int64\n"
     ]
    }
   ],
   "source": [
    "#a partir da media total criamos um filtro que dentro da variavel total compara todos os inseticidas que tem resultado acima da media \n",
    "\n",
    "sprays_eficientes = total_insetos_spray[total_insetos_spray > media]\n",
    "print(f'Os sprays com eficácia acima da média são:\\n{sprays_eficientes}')"
   ]
  }
 ],
 "metadata": {
  "kernelspec": {
   "display_name": "Python 3",
   "language": "python",
   "name": "python3"
  },
  "language_info": {
   "codemirror_mode": {
    "name": "ipython",
    "version": 3
   },
   "file_extension": ".py",
   "mimetype": "text/x-python",
   "name": "python",
   "nbconvert_exporter": "python",
   "pygments_lexer": "ipython3",
   "version": "3.11.9"
  }
 },
 "nbformat": 4,
 "nbformat_minor": 2
}
