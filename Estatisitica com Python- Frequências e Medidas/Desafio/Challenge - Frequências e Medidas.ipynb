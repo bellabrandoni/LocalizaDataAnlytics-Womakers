{
 "cells": [
  {
   "cell_type": "markdown",
   "metadata": {},
   "source": [
    "# Challenge Frequência e Medidas"
   ]
  },
  {
   "cell_type": "markdown",
   "metadata": {},
   "source": [
    "### Desafio 1: O perfil do Catálogo da Netflix\n",
    "\n",
    "Esse desafio tem como objetivo responder algumas perguntas através da\n",
    "análise de dados, aprofundando o conhecimento em frequência e medidas.\n",
    "Os dados que deverão ser utilizado nesse script foram baixados do kaggle"
   ]
  },
  {
   "cell_type": "markdown",
   "metadata": {},
   "source": [
    "Este conjunto de dados consiste na lista de filmes e suas respectivas e\n",
    "suas informações.\n",
    "Variáveis:\n",
    "● show_id - id único do filme/série.\n",
    "\n",
    "● title - título do filme ou série\n",
    "\n",
    "● director - diretor do filme ou série\n",
    "\n",
    "● cast - elenco do filme ou série\n",
    "\n",
    "● country - país do filme ou série\n",
    "\n",
    "● date_added - data que foi adicionado no Netflix\n",
    "\n",
    "● reading score - ano de lançamento original do filme\n",
    "\n",
    "● rating - classificação da televisão\n",
    "\n",
    "● duration - duração total do filme ou série.\n",
    "\n",
    "● listed_in - categoria ou gênero do filme ou série.\n",
    "\n",
    "● description -descrição do filme ou série.\n",
    "\n",
    "● type - tipo de filme ou série\n",
    "\n",
    "Os dados são arquivos em .csv."
   ]
  },
  {
   "cell_type": "markdown",
   "metadata": {},
   "source": [
    "### 📝 Tarefas:\n",
    "### 1. Exploração inicial:\n",
    "   \n",
    "●  Quantas linhas e colunas tem o dataset?\n",
    "\n",
    "● Quais são os tipos das variáveis e se há valores ausentes?"
   ]
  },
  {
   "cell_type": "code",
   "execution_count": 16,
   "metadata": {},
   "outputs": [],
   "source": [
    "#importando bibliotecas \n",
    "import pandas as pd\n",
    "import matplotlib.pyplot as plt\n",
    "import seaborn as sns"
   ]
  },
  {
   "cell_type": "code",
   "execution_count": 2,
   "metadata": {},
   "outputs": [
    {
     "data": {
      "text/html": [
       "<div>\n",
       "<style scoped>\n",
       "    .dataframe tbody tr th:only-of-type {\n",
       "        vertical-align: middle;\n",
       "    }\n",
       "\n",
       "    .dataframe tbody tr th {\n",
       "        vertical-align: top;\n",
       "    }\n",
       "\n",
       "    .dataframe thead th {\n",
       "        text-align: right;\n",
       "    }\n",
       "</style>\n",
       "<table border=\"1\" class=\"dataframe\">\n",
       "  <thead>\n",
       "    <tr style=\"text-align: right;\">\n",
       "      <th></th>\n",
       "      <th>show_id</th>\n",
       "      <th>title</th>\n",
       "      <th>director</th>\n",
       "      <th>cast</th>\n",
       "      <th>country</th>\n",
       "      <th>date_added</th>\n",
       "      <th>release_year</th>\n",
       "      <th>rating</th>\n",
       "      <th>duration</th>\n",
       "      <th>listed_in</th>\n",
       "      <th>description</th>\n",
       "      <th>type</th>\n",
       "    </tr>\n",
       "  </thead>\n",
       "  <tbody>\n",
       "    <tr>\n",
       "      <th>0</th>\n",
       "      <td>81193313</td>\n",
       "      <td>Chocolate</td>\n",
       "      <td>NaN</td>\n",
       "      <td>Ha Ji-won, Yoon Kye-sang, Jang Seung-jo, Kang ...</td>\n",
       "      <td>South Korea</td>\n",
       "      <td>November 30, 2019</td>\n",
       "      <td>2019</td>\n",
       "      <td>TV-14</td>\n",
       "      <td>1 Season</td>\n",
       "      <td>International TV Shows, Korean TV Shows, Roman...</td>\n",
       "      <td>Brought together by meaningful meals in the pa...</td>\n",
       "      <td>TV Show</td>\n",
       "    </tr>\n",
       "    <tr>\n",
       "      <th>1</th>\n",
       "      <td>81197050</td>\n",
       "      <td>Guatemala: Heart of the Mayan World</td>\n",
       "      <td>Luis Ara, Ignacio Jaunsolo</td>\n",
       "      <td>Christian Morales</td>\n",
       "      <td>NaN</td>\n",
       "      <td>November 30, 2019</td>\n",
       "      <td>2019</td>\n",
       "      <td>TV-G</td>\n",
       "      <td>67 min</td>\n",
       "      <td>Documentaries, International Movies</td>\n",
       "      <td>From Sierra de las Minas to Esquipulas, explor...</td>\n",
       "      <td>Movie</td>\n",
       "    </tr>\n",
       "    <tr>\n",
       "      <th>2</th>\n",
       "      <td>81213894</td>\n",
       "      <td>The Zoya Factor</td>\n",
       "      <td>Abhishek Sharma</td>\n",
       "      <td>Sonam Kapoor, Dulquer Salmaan, Sanjay Kapoor, ...</td>\n",
       "      <td>India</td>\n",
       "      <td>November 30, 2019</td>\n",
       "      <td>2019</td>\n",
       "      <td>TV-14</td>\n",
       "      <td>135 min</td>\n",
       "      <td>Comedies, Dramas, International Movies</td>\n",
       "      <td>A goofy copywriter unwittingly convinces the I...</td>\n",
       "      <td>Movie</td>\n",
       "    </tr>\n",
       "    <tr>\n",
       "      <th>3</th>\n",
       "      <td>81082007</td>\n",
       "      <td>Atlantics</td>\n",
       "      <td>Mati Diop</td>\n",
       "      <td>Mama Sane, Amadou Mbow, Ibrahima Traore, Nicol...</td>\n",
       "      <td>France, Senegal, Belgium</td>\n",
       "      <td>November 29, 2019</td>\n",
       "      <td>2019</td>\n",
       "      <td>TV-14</td>\n",
       "      <td>106 min</td>\n",
       "      <td>Dramas, Independent Movies, International Movies</td>\n",
       "      <td>Arranged to marry a rich man, young Ada is cru...</td>\n",
       "      <td>Movie</td>\n",
       "    </tr>\n",
       "    <tr>\n",
       "      <th>4</th>\n",
       "      <td>80213643</td>\n",
       "      <td>Chip and Potato</td>\n",
       "      <td>NaN</td>\n",
       "      <td>Abigail Oliver, Andrea Libman, Briana Buckmast...</td>\n",
       "      <td>Canada, United Kingdom</td>\n",
       "      <td>NaN</td>\n",
       "      <td>2019</td>\n",
       "      <td>TV-Y</td>\n",
       "      <td>2 Seasons</td>\n",
       "      <td>Kids' TV</td>\n",
       "      <td>Lovable pug Chip starts kindergarten, makes ne...</td>\n",
       "      <td>TV Show</td>\n",
       "    </tr>\n",
       "  </tbody>\n",
       "</table>\n",
       "</div>"
      ],
      "text/plain": [
       "    show_id                                title                    director  \\\n",
       "0  81193313                            Chocolate                         NaN   \n",
       "1  81197050  Guatemala: Heart of the Mayan World  Luis Ara, Ignacio Jaunsolo   \n",
       "2  81213894                      The Zoya Factor             Abhishek Sharma   \n",
       "3  81082007                            Atlantics                   Mati Diop   \n",
       "4  80213643                      Chip and Potato                         NaN   \n",
       "\n",
       "                                                cast  \\\n",
       "0  Ha Ji-won, Yoon Kye-sang, Jang Seung-jo, Kang ...   \n",
       "1                                  Christian Morales   \n",
       "2  Sonam Kapoor, Dulquer Salmaan, Sanjay Kapoor, ...   \n",
       "3  Mama Sane, Amadou Mbow, Ibrahima Traore, Nicol...   \n",
       "4  Abigail Oliver, Andrea Libman, Briana Buckmast...   \n",
       "\n",
       "                    country         date_added  release_year rating  \\\n",
       "0               South Korea  November 30, 2019          2019  TV-14   \n",
       "1                       NaN  November 30, 2019          2019   TV-G   \n",
       "2                     India  November 30, 2019          2019  TV-14   \n",
       "3  France, Senegal, Belgium  November 29, 2019          2019  TV-14   \n",
       "4    Canada, United Kingdom                NaN          2019   TV-Y   \n",
       "\n",
       "    duration                                          listed_in  \\\n",
       "0   1 Season  International TV Shows, Korean TV Shows, Roman...   \n",
       "1     67 min                Documentaries, International Movies   \n",
       "2    135 min             Comedies, Dramas, International Movies   \n",
       "3    106 min   Dramas, Independent Movies, International Movies   \n",
       "4  2 Seasons                                           Kids' TV   \n",
       "\n",
       "                                         description     type  \n",
       "0  Brought together by meaningful meals in the pa...  TV Show  \n",
       "1  From Sierra de las Minas to Esquipulas, explor...    Movie  \n",
       "2  A goofy copywriter unwittingly convinces the I...    Movie  \n",
       "3  Arranged to marry a rich man, young Ada is cru...    Movie  \n",
       "4  Lovable pug Chip starts kindergarten, makes ne...  TV Show  "
      ]
     },
     "execution_count": 2,
     "metadata": {},
     "output_type": "execute_result"
    }
   ],
   "source": [
    "#importando o dataset\n",
    "df = pd.read_csv(\"netflix_titles_nov_2019.csv\")\n",
    "df.head()"
   ]
  },
  {
   "cell_type": "code",
   "execution_count": 3,
   "metadata": {},
   "outputs": [
    {
     "name": "stdout",
     "output_type": "stream",
     "text": [
      "O dataset tem 5837 linhas e 12 colunas\n"
     ]
    }
   ],
   "source": [
    "#Quantas linhas e colunas tem o dataset?\n",
    "linhas, colunas = df.shape\n",
    "print(f\"O dataset tem {linhas} linhas e {colunas} colunas\")"
   ]
  },
  {
   "cell_type": "code",
   "execution_count": 4,
   "metadata": {},
   "outputs": [
    {
     "data": {
      "text/plain": [
       "show_id          int64\n",
       "title           object\n",
       "director        object\n",
       "cast            object\n",
       "country         object\n",
       "date_added      object\n",
       "release_year     int64\n",
       "rating          object\n",
       "duration        object\n",
       "listed_in       object\n",
       "description     object\n",
       "type            object\n",
       "dtype: object"
      ]
     },
     "execution_count": 4,
     "metadata": {},
     "output_type": "execute_result"
    }
   ],
   "source": [
    "#Quais são os tipos das variáveis e se há valores ausentes?\n",
    "#verificando o tipo de variaveis\n",
    "df.dtypes"
   ]
  },
  {
   "cell_type": "code",
   "execution_count": 5,
   "metadata": {},
   "outputs": [
    {
     "data": {
      "text/plain": [
       "show_id            0\n",
       "title              0\n",
       "director        1901\n",
       "cast             556\n",
       "country          427\n",
       "date_added       642\n",
       "release_year       0\n",
       "rating            10\n",
       "duration           0\n",
       "listed_in          0\n",
       "description        0\n",
       "type               0\n",
       "dtype: int64"
      ]
     },
     "execution_count": 5,
     "metadata": {},
     "output_type": "execute_result"
    }
   ],
   "source": [
    "#contando quantos valores ausentes (`NaN`) existem em cada coluna.\n",
    "\n",
    "nulos = df.isnull().sum()\n",
    "nulos"
   ]
  },
  {
   "cell_type": "markdown",
   "metadata": {},
   "source": [
    "### 2. Análises de frequência:\n",
    "\n",
    "● Qual a proporção de filmes vs. séries no catálogo?\n",
    "\n",
    "● Qual o gênero mais frequente?"
   ]
  },
  {
   "cell_type": "code",
   "execution_count": null,
   "metadata": {},
   "outputs": [
    {
     "name": "stdout",
     "output_type": "stream",
     "text": [
      "Proporção de Filmes vs. Séries no catálogo:\n",
      "0       TV Show\n",
      "1         Movie\n",
      "2         Movie\n",
      "3         Movie\n",
      "4       TV Show\n",
      "         ...   \n",
      "5832      Movie\n",
      "5833      Movie\n",
      "5834      Movie\n",
      "5835    TV Show\n",
      "5836      Movie\n",
      "Name: type, Length: 5837, dtype: object\n"
     ]
    }
   ],
   "source": [
    "#Qual a proporção de filmes vs. séries no catálogo?\n",
    "\n",
    "#df.head()\n",
    "#value_counts -> contando quantas vezes cada categoria aparece na coluna `type`.\n",
    "#`normalize=True` faz com que os valores sejam expressos em proporção.\n",
    "# Multiplicando por 100 e convertendo para porcentagem.\n",
    "\n",
    "proporcao = df['type'].value_counts(normalize=True) * 100\n",
    "\n",
    "print(\"Proporção de Filmes vs. Séries no catálogo:\")\n",
    "print(proporcao)"
   ]
  },
  {
   "cell_type": "code",
   "execution_count": 7,
   "metadata": {},
   "outputs": [
    {
     "name": "stdout",
     "output_type": "stream",
     "text": [
      "Genero mais frequente: Movie\n"
     ]
    }
   ],
   "source": [
    "#df.head()\n",
    "\n",
    "# Contando as frequências dos valores na coluna 'type'\n",
    "frequencia_genero = df['type'].value_counts().idxmax()\n",
    "\n",
    "print(f\"Genero mais frequente: {frequencia_genero}\")"
   ]
  },
  {
   "cell_type": "markdown",
   "metadata": {},
   "source": [
    "### 3. Análises estatísticas:\n",
    "● Qual a média, mediana e moda do tempo de duração dos filmes?\n",
    "\n",
    "● Qual o filme mais curto e mais longo?"
   ]
  },
  {
   "cell_type": "code",
   "execution_count": 8,
   "metadata": {},
   "outputs": [
    {
     "name": "stdout",
     "output_type": "stream",
     "text": [
      "Média da duração dos filmes: 98.03 minutos\n",
      "Mediana da duração dos filmes: 97.00 minutos\n",
      "Moda da duração dos filmes: 90 minutos\n"
     ]
    }
   ],
   "source": [
    "#df.head()\n",
    "\n",
    "# Filtrar apenas os filmes (onde 'duration' não é nulo e tem a palavra 'min' e são diferentes de nulo -> na=False)\n",
    "filmes = df[df['duration'].notnull() & df['duration'].str.contains('min', na=False)]\n",
    "\n",
    "# : na parte antes da vírgula significa \"selecione todas as linhas\" do DataFrame. Após a virgula está acessando a coluna 'duration' do DataFrame filmes para modificar seus valores no DataFrame original.\n",
    "\n",
    "# utilizado filmes['duration'].str.replace(' min', '', regex=False)  para remover o sufixo \" min\" da coluna 'duration' e deixar apenas o número da duração de cada filme. \n",
    "filmes.loc[:, 'duration'] = filmes['duration'].str.replace(' min', '', regex=False)\n",
    "\n",
    "# to_numeric -> convertendo 'duration' para inteiro, ignorando erros\n",
    "filmes.loc[:, 'duration'] = pd.to_numeric(filmes['duration'], errors='coerce')\n",
    "\n",
    "# Remover valores nulos resultantes da conversão\n",
    "#parâmetro subset é usado para especificar as colunas nas quais a operação será aplicada. \n",
    "filmes = filmes.dropna(subset=['duration'])\n",
    "\n",
    "# Calcular média, mediana e moda\n",
    "media_duracao = filmes['duration'].mean()\n",
    "mediana_duracao = filmes['duration'].median()\n",
    "moda_duracao = filmes['duration'].mode()[0]\n",
    "\n",
    "# Exibir os resultados\n",
    "print(f\"Média da duração dos filmes: {media_duracao:.2f} minutos\")\n",
    "print(f\"Mediana da duração dos filmes: {mediana_duracao:.2f} minutos\")\n",
    "print(f\"Moda da duração dos filmes: {moda_duracao} minutos\")"
   ]
  },
  {
   "cell_type": "code",
   "execution_count": 14,
   "metadata": {},
   "outputs": [
    {
     "name": "stdout",
     "output_type": "stream",
     "text": [
      "\n",
      "Filme mais curto:\n",
      "       title duration\n",
      "1185  Silent        3\n",
      "\n",
      "Filme mais longo:\n",
      "                           title duration\n",
      "2160  Black Mirror: Bandersnatch      312\n"
     ]
    }
   ],
   "source": [
    "# Encontrando o filme mais curto\n",
    "filme_mais_curto = filmes.loc[filmes['duration'] == filmes['duration'].min()]\n",
    "\n",
    "# Encontrar o filme mais longo\n",
    "filme_mais_longo = filmes.loc[filmes['duration'] == filmes['duration'].max()]\n",
    "\n",
    "# Armazenar a duração dos filmes\n",
    "filme_mais_curto['duration'].values[0]\n",
    "filme_mais_longo['duration'].values[0]\n",
    "\n",
    "#print(f\"\\nDuração mais curta: {filme_mais_curto} minutos\")\n",
    "#print(f\"Duração mais longa: {filme_mais_longo} minutos\")\n",
    "\n",
    "print(f\"\\nFilme mais curto:\")\n",
    "print(filme_mais_curto[['title', 'duration']])\n",
    "\n",
    "print(f\"\\nFilme mais longo:\")\n",
    "print(filme_mais_longo[['title', 'duration']])"
   ]
  },
  {
   "cell_type": "markdown",
   "metadata": {},
   "source": [
    "### 4. Visualização de dados:\n",
    "\n",
    "● Criar um gráfico de barras para mostrar a quantidade de títulos\n",
    "por gênero.\n",
    "\n",
    "● Criar um histograma para analisar a distribuição da duração dos\n",
    "filmes."
   ]
  },
  {
   "cell_type": "code",
   "execution_count": 24,
   "metadata": {},
   "outputs": [
    {
     "name": "stderr",
     "output_type": "stream",
     "text": [
      "C:\\Users\\ACER\\AppData\\Local\\Temp\\ipykernel_13324\\1357706257.py:14: FutureWarning: \n",
      "\n",
      "Passing `palette` without assigning `hue` is deprecated and will be removed in v0.14.0. Assign the `x` variable to `hue` and set `legend=False` for the same effect.\n",
      "\n",
      "  sns.barplot(x=titulo_por_genero.index, y=titulo_por_genero.values, palette=\"Set2\")\n"
     ]
    },
    {
     "data": {
      "image/png": "[encoded data removed]",
      "text/plain": [
       "<Figure size 800x600 with 1 Axes>"
      ]
     },
     "metadata": {},
     "output_type": "display_data"
    }
   ],
   "source": [
    "#df.head()\n",
    "\n",
    "# Agrupando e contando o número de títulos por gênero (coluna 'type')\n",
    "titulo_por_genero = df['type'].value_counts()\n",
    "titulo_por_genero\n",
    "\n",
    "# Criando o gráfico de barras com tamanho 8 por 6\n",
    "plt.figure(figsize=(8, 6))\n",
    "\n",
    "\n",
    "#Distribuindo eixos\n",
    "# sns.barplot() -> eixo x terá os gêneros e o eixo y terá a quantidade de títulos.\n",
    "#palette=\"viridis\": Define o esquema de cores do gráfico\n",
    "sns.barplot(x=titulo_por_genero.index, y=titulo_por_genero.values, palette=\"Set2\")\n",
    "\n",
    "#Ajustes no gráfico:\n",
    "# Adicionando títulos e labels\n",
    "plt.title('Quantidade de Títulos por Gênero', fontsize=16)\n",
    "plt.xlabel('Gênero', fontsize=14)\n",
    "plt.ylabel('Quantidade de Títulos', fontsize=14)\n",
    "\n",
    "# Exibir o gráfico\n",
    "plt.xticks(rotation=45)\n",
    "plt.show()\n"
   ]
  },
  {
   "cell_type": "code",
   "execution_count": null,
   "metadata": {},
   "outputs": [
    {
     "data": {
      "image/png": "[encoded data removed]",
      "text/plain": [
       "<Figure size 1000x600 with 1 Axes>"
      ]
     },
     "metadata": {},
     "output_type": "display_data"
    }
   ],
   "source": [
    "#Criar um histograma para analisar a distribuição da duração dos filmes.\n",
    "\n",
    "# Limpar a coluna 'duration' para garantir que apenas os números permanecem\n",
    "df['duration'] = df['duration'].str.replace(' min', '', regex=False)\n",
    "\n",
    "\n",
    "# Converter a coluna 'duration' para numérico\n",
    "df['duration'] = pd.to_numeric(df['duration'], errors='coerce')\n",
    "\n",
    "\n",
    "#Filtrando os filmes :\n",
    "# Filtrar apenas os filmes (considerando que 'type' tem o valor 'Movie' para filmes)\n",
    "filmes = df[df['type'] == 'Movie']\n",
    "\n",
    "# Criando o histograma\n",
    "#definindo o tamanho do grafico -gráfico terá 10 polegadas de largura e 6 pol\n",
    "#bins=20: Define o número de intervalos (bins) no histograma.\n",
    "#kde=True: Ativa a sobreposição de uma Curva de Densidade de Kernel (KDE) no histograma,\n",
    "#color=\"skyblue\": Define um cor das barras do histograma.\n",
    "#edgecolor=\"black\": Define a cor das bordas das barras, que são coloridas de preto.\n",
    "\n",
    "plt.figure(figsize=(10, 6))\n",
    "sns.histplot(filmes['duration'], bins=20, kde=True, color=\"skyblue\", edgecolor=\"black\")\n",
    "\n",
    "# Adicionar título e rótulos aos eixos\n",
    "plt.title('Distribuição da Duração dos Filmes', fontsize=16)\n",
    "plt.xlabel('Duração (minutos)', fontsize=14)\n",
    "plt.ylabel('Frequência', fontsize=14)\n",
    "\n",
    "# Exibir o gráfico\n",
    "plt.show()"
   ]
  }
 ],
 "metadata": {
  "kernelspec": {
   "display_name": "Python 3",
   "language": "python",
   "name": "python3"
  },
  "language_info": {
   "codemirror_mode": {
    "name": "ipython",
    "version": 3
   },
   "file_extension": ".py",
   "mimetype": "text/x-python",
   "name": "python",
   "nbconvert_exporter": "python",
   "pygments_lexer": "ipython3",
   "version": "3.11.9"
  }
 },
 "nbformat": 4,
 "nbformat_minor": 2
}
