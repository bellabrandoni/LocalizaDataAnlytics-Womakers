{
 "cells": [
  {
   "cell_type": "markdown",
   "metadata": {},
   "source": [
    "# Challenge Frequência e Medidas"
   ]
  },
  {
   "cell_type": "markdown",
   "metadata": {},
   "source": [
    "### Desafio 1: O perfil do Catálogo da Netflix\n",
    "\n",
    "Esse desafio tem como objetivo responder algumas perguntas através da\n",
    "análise de dados, aprofundando o conhecimento em frequência e medidas.\n",
    "Os dados que deverão ser utilizado nesse script foram baixados do kaggle"
   ]
  },
  {
   "cell_type": "markdown",
   "metadata": {},
   "source": [
    "Este conjunto de dados consiste na lista de filmes e suas respectivas e\n",
    "suas informações.\n",
    "Variáveis:\n",
    "● show_id - id único do filme/série.\n",
    "\n",
    "● title - título do filme ou série\n",
    "\n",
    "● director - diretor do filme ou série\n",
    "\n",
    "● cast - elenco do filme ou série\n",
    "\n",
    "● country - país do filme ou série\n",
    "\n",
    "● date_added - data que foi adicionado no Netflix\n",
    "\n",
    "● reading score - ano de lançamento original do filme\n",
    "\n",
    "● rating - classificação da televisão\n",
    "\n",
    "● duration - duração total do filme ou série.\n",
    "\n",
    "● listed_in - categoria ou gênero do filme ou série.\n",
    "\n",
    "● description -descrição do filme ou série.\n",
    "\n",
    "● type - tipo de filme ou série\n",
    "\n",
    "Os dados são arquivos em .csv."
   ]
  },
  {
   "cell_type": "markdown",
   "metadata": {},
   "source": [
    "### 📝 Tarefas:\n",
    "### 1. Exploração inicial:\n",
    "   \n",
    "●  Quantas linhas e colunas tem o dataset?\n",
    "\n"
   ]
  },
  {
   "cell_type": "code",
   "execution_count": 10,
   "metadata": {},
   "outputs": [],
   "source": [
    "#importando bibliotecas \n",
    "import pandas as pd\n",
    "import matplotlib.pyplot as plt\n",
    "import seaborn as sns\n",
    "import scipy.stats as stats"
   ]
  },
  {
   "cell_type": "code",
   "execution_count": 11,
   "metadata": {},
   "outputs": [
    {
     "data": {
      "text/html": [
       "<div>\n",
       "<style scoped>\n",
       "    .dataframe tbody tr th:only-of-type {\n",
       "        vertical-align: middle;\n",
       "    }\n",
       "\n",
       "    .dataframe tbody tr th {\n",
       "        vertical-align: top;\n",
       "    }\n",
       "\n",
       "    .dataframe thead th {\n",
       "        text-align: right;\n",
       "    }\n",
       "</style>\n",
       "<table border=\"1\" class=\"dataframe\">\n",
       "  <thead>\n",
       "    <tr style=\"text-align: right;\">\n",
       "      <th></th>\n",
       "      <th>show_id</th>\n",
       "      <th>title</th>\n",
       "      <th>director</th>\n",
       "      <th>cast</th>\n",
       "      <th>country</th>\n",
       "      <th>date_added</th>\n",
       "      <th>release_year</th>\n",
       "      <th>rating</th>\n",
       "      <th>duration</th>\n",
       "      <th>listed_in</th>\n",
       "      <th>description</th>\n",
       "      <th>type</th>\n",
       "    </tr>\n",
       "  </thead>\n",
       "  <tbody>\n",
       "    <tr>\n",
       "      <th>0</th>\n",
       "      <td>81193313</td>\n",
       "      <td>Chocolate</td>\n",
       "      <td>NaN</td>\n",
       "      <td>Ha Ji-won, Yoon Kye-sang, Jang Seung-jo, Kang ...</td>\n",
       "      <td>South Korea</td>\n",
       "      <td>November 30, 2019</td>\n",
       "      <td>2019</td>\n",
       "      <td>TV-14</td>\n",
       "      <td>1 Season</td>\n",
       "      <td>International TV Shows, Korean TV Shows, Roman...</td>\n",
       "      <td>Brought together by meaningful meals in the pa...</td>\n",
       "      <td>TV Show</td>\n",
       "    </tr>\n",
       "    <tr>\n",
       "      <th>1</th>\n",
       "      <td>81197050</td>\n",
       "      <td>Guatemala: Heart of the Mayan World</td>\n",
       "      <td>Luis Ara, Ignacio Jaunsolo</td>\n",
       "      <td>Christian Morales</td>\n",
       "      <td>NaN</td>\n",
       "      <td>November 30, 2019</td>\n",
       "      <td>2019</td>\n",
       "      <td>TV-G</td>\n",
       "      <td>67 min</td>\n",
       "      <td>Documentaries, International Movies</td>\n",
       "      <td>From Sierra de las Minas to Esquipulas, explor...</td>\n",
       "      <td>Movie</td>\n",
       "    </tr>\n",
       "    <tr>\n",
       "      <th>2</th>\n",
       "      <td>81213894</td>\n",
       "      <td>The Zoya Factor</td>\n",
       "      <td>Abhishek Sharma</td>\n",
       "      <td>Sonam Kapoor, Dulquer Salmaan, Sanjay Kapoor, ...</td>\n",
       "      <td>India</td>\n",
       "      <td>November 30, 2019</td>\n",
       "      <td>2019</td>\n",
       "      <td>TV-14</td>\n",
       "      <td>135 min</td>\n",
       "      <td>Comedies, Dramas, International Movies</td>\n",
       "      <td>A goofy copywriter unwittingly convinces the I...</td>\n",
       "      <td>Movie</td>\n",
       "    </tr>\n",
       "    <tr>\n",
       "      <th>3</th>\n",
       "      <td>81082007</td>\n",
       "      <td>Atlantics</td>\n",
       "      <td>Mati Diop</td>\n",
       "      <td>Mama Sane, Amadou Mbow, Ibrahima Traore, Nicol...</td>\n",
       "      <td>France, Senegal, Belgium</td>\n",
       "      <td>November 29, 2019</td>\n",
       "      <td>2019</td>\n",
       "      <td>TV-14</td>\n",
       "      <td>106 min</td>\n",
       "      <td>Dramas, Independent Movies, International Movies</td>\n",
       "      <td>Arranged to marry a rich man, young Ada is cru...</td>\n",
       "      <td>Movie</td>\n",
       "    </tr>\n",
       "    <tr>\n",
       "      <th>4</th>\n",
       "      <td>80213643</td>\n",
       "      <td>Chip and Potato</td>\n",
       "      <td>NaN</td>\n",
       "      <td>Abigail Oliver, Andrea Libman, Briana Buckmast...</td>\n",
       "      <td>Canada, United Kingdom</td>\n",
       "      <td>NaN</td>\n",
       "      <td>2019</td>\n",
       "      <td>TV-Y</td>\n",
       "      <td>2 Seasons</td>\n",
       "      <td>Kids' TV</td>\n",
       "      <td>Lovable pug Chip starts kindergarten, makes ne...</td>\n",
       "      <td>TV Show</td>\n",
       "    </tr>\n",
       "  </tbody>\n",
       "</table>\n",
       "</div>"
      ],
      "text/plain": [
       "    show_id                                title                    director  \\\n",
       "0  81193313                            Chocolate                         NaN   \n",
       "1  81197050  Guatemala: Heart of the Mayan World  Luis Ara, Ignacio Jaunsolo   \n",
       "2  81213894                      The Zoya Factor             Abhishek Sharma   \n",
       "3  81082007                            Atlantics                   Mati Diop   \n",
       "4  80213643                      Chip and Potato                         NaN   \n",
       "\n",
       "                                                cast  \\\n",
       "0  Ha Ji-won, Yoon Kye-sang, Jang Seung-jo, Kang ...   \n",
       "1                                  Christian Morales   \n",
       "2  Sonam Kapoor, Dulquer Salmaan, Sanjay Kapoor, ...   \n",
       "3  Mama Sane, Amadou Mbow, Ibrahima Traore, Nicol...   \n",
       "4  Abigail Oliver, Andrea Libman, Briana Buckmast...   \n",
       "\n",
       "                    country         date_added  release_year rating  \\\n",
       "0               South Korea  November 30, 2019          2019  TV-14   \n",
       "1                       NaN  November 30, 2019          2019   TV-G   \n",
       "2                     India  November 30, 2019          2019  TV-14   \n",
       "3  France, Senegal, Belgium  November 29, 2019          2019  TV-14   \n",
       "4    Canada, United Kingdom                NaN          2019   TV-Y   \n",
       "\n",
       "    duration                                          listed_in  \\\n",
       "0   1 Season  International TV Shows, Korean TV Shows, Roman...   \n",
       "1     67 min                Documentaries, International Movies   \n",
       "2    135 min             Comedies, Dramas, International Movies   \n",
       "3    106 min   Dramas, Independent Movies, International Movies   \n",
       "4  2 Seasons                                           Kids' TV   \n",
       "\n",
       "                                         description     type  \n",
       "0  Brought together by meaningful meals in the pa...  TV Show  \n",
       "1  From Sierra de las Minas to Esquipulas, explor...    Movie  \n",
       "2  A goofy copywriter unwittingly convinces the I...    Movie  \n",
       "3  Arranged to marry a rich man, young Ada is cru...    Movie  \n",
       "4  Lovable pug Chip starts kindergarten, makes ne...  TV Show  "
      ]
     },
     "execution_count": 11,
     "metadata": {},
     "output_type": "execute_result"
    }
   ],
   "source": [
    "#importando o dataset\n",
    "df = pd.read_csv(\"netflix_titles_nov_2019.csv\")\n",
    "df.head()"
   ]
  },
  {
   "cell_type": "code",
   "execution_count": 12,
   "metadata": {},
   "outputs": [
    {
     "name": "stdout",
     "output_type": "stream",
     "text": [
      "O dataset tem 5837 linhas e 12 colunas\n"
     ]
    }
   ],
   "source": [
    "#Quantas linhas e colunas tem o dataset?\n",
    "linhas, colunas = df.shape\n",
    "print(f\"O dataset tem {linhas} linhas e {colunas} colunas\")"
   ]
  },
  {
   "cell_type": "code",
   "execution_count": 13,
   "metadata": {},
   "outputs": [
    {
     "name": "stdout",
     "output_type": "stream",
     "text": [
      "<class 'pandas.core.frame.DataFrame'>\n",
      "RangeIndex: 5837 entries, 0 to 5836\n",
      "Data columns (total 12 columns):\n",
      " #   Column        Non-Null Count  Dtype \n",
      "---  ------        --------------  ----- \n",
      " 0   show_id       5837 non-null   int64 \n",
      " 1   title         5837 non-null   object\n",
      " 2   director      3936 non-null   object\n",
      " 3   cast          5281 non-null   object\n",
      " 4   country       5410 non-null   object\n",
      " 5   date_added    5195 non-null   object\n",
      " 6   release_year  5837 non-null   int64 \n",
      " 7   rating        5827 non-null   object\n",
      " 8   duration      5837 non-null   object\n",
      " 9   listed_in     5837 non-null   object\n",
      " 10  description   5837 non-null   object\n",
      " 11  type          5837 non-null   object\n",
      "dtypes: int64(2), object(10)\n",
      "memory usage: 547.3+ KB\n"
     ]
    }
   ],
   "source": [
    "#Quais são os tipos das variáveis e se há valores ausentes?\n",
    "#verificando o tipo de variaveis\n",
    "df.info()"
   ]
  },
  {
   "cell_type": "markdown",
   "metadata": {},
   "source": [
    "● Quais são os tipos das variáveis e se há valores ausentes?"
   ]
  },
  {
   "cell_type": "code",
   "execution_count": 14,
   "metadata": {},
   "outputs": [
    {
     "data": {
      "text/plain": [
       "show_id            0\n",
       "title              0\n",
       "director        1901\n",
       "cast             556\n",
       "country          427\n",
       "date_added       642\n",
       "release_year       0\n",
       "rating            10\n",
       "duration           0\n",
       "listed_in          0\n",
       "description        0\n",
       "type               0\n",
       "dtype: int64"
      ]
     },
     "execution_count": 14,
     "metadata": {},
     "output_type": "execute_result"
    }
   ],
   "source": [
    "#contando quantos valores ausentes (`NaN`) existem em cada coluna.\n",
    "\n",
    "nulos = df.isnull().sum()\n",
    "nulos"
   ]
  },
  {
   "cell_type": "markdown",
   "metadata": {},
   "source": [
    "### 2. Análises de frequência:\n",
    "\n",
    "● Qual a proporção de filmes vs. séries no catálogo?\n",
    "\n"
   ]
  },
  {
   "cell_type": "code",
   "execution_count": 15,
   "metadata": {},
   "outputs": [
    {
     "name": "stdout",
     "output_type": "stream",
     "text": [
      "Proporção de Filmes vs. Séries no catálogo:\n",
      "type\n",
      "Movie      67.483296\n",
      "TV Show    32.516704\n",
      "Name: proportion, dtype: float64\n"
     ]
    }
   ],
   "source": [
    "#Qual a proporção de filmes vs. séries no catálogo?\n",
    "\n",
    "#df.head()\n",
    "#value_counts -> contando quantas vezes cada categoria aparece na coluna `type`.\n",
    "#`normalize=True` faz com que os valores sejam expressos em proporção.\n",
    "# Multiplicando por 100 e convertendo para porcentagem.\n",
    "\n",
    "proporcao = df['type'].value_counts(normalize=True) * 100\n",
    "\n",
    "print(\"Proporção de Filmes vs. Séries no catálogo:\")\n",
    "print(proporcao)"
   ]
  },
  {
   "cell_type": "markdown",
   "metadata": {},
   "source": [
    "● Qual o gênero mais frequente?"
   ]
  },
  {
   "cell_type": "code",
   "execution_count": null,
   "metadata": {},
   "outputs": [
    {
     "name": "stdout",
     "output_type": "stream",
     "text": [
      "\n",
      "O gênero mais frequente do Catálogo da Netflix é: International Movies\n"
     ]
    }
   ],
   "source": [
    "#df.head()\n",
    "\n",
    "# O método .str.split(', ') divide cada string da coluna em uma lista de gêneros separando pelo \", \" (vírgula + espaço).\n",
    "# O método .explode() separa os valores de uma lista, criando uma nova linha para cada item da lista.\n",
    "separacao_generos = df['listed_in'].str.split(', ').explode()\n",
    "\n",
    "\n",
    "# contando quantas vezes cada gênero aparece na coluna separacao_generos\n",
    "conta_genero = separacao_generos.value_counts() \n",
    "\n",
    "# retorna o gênero mais frequente na contagem.\n",
    "mais_frequente = conta_genero.idxmax()\n",
    "print(f'\\nO gênero mais frequente do Catálogo da Netflix é: {mais_frequente}')"
   ]
  },
  {
   "cell_type": "markdown",
   "metadata": {},
   "source": [
    "### 3. Análises estatísticas:\n",
    "● Qual a média, mediana e moda do tempo de duração dos filmes?\n",
    "\n"
   ]
  },
  {
   "cell_type": "code",
   "execution_count": 18,
   "metadata": {},
   "outputs": [
    {
     "data": {
      "text/html": [
       "<div>\n",
       "<style scoped>\n",
       "    .dataframe tbody tr th:only-of-type {\n",
       "        vertical-align: middle;\n",
       "    }\n",
       "\n",
       "    .dataframe tbody tr th {\n",
       "        vertical-align: top;\n",
       "    }\n",
       "\n",
       "    .dataframe thead th {\n",
       "        text-align: right;\n",
       "    }\n",
       "</style>\n",
       "<table border=\"1\" class=\"dataframe\">\n",
       "  <thead>\n",
       "    <tr style=\"text-align: right;\">\n",
       "      <th></th>\n",
       "      <th>show_id</th>\n",
       "      <th>title</th>\n",
       "      <th>director</th>\n",
       "      <th>cast</th>\n",
       "      <th>country</th>\n",
       "      <th>date_added</th>\n",
       "      <th>release_year</th>\n",
       "      <th>rating</th>\n",
       "      <th>duration</th>\n",
       "      <th>listed_in</th>\n",
       "      <th>description</th>\n",
       "      <th>type</th>\n",
       "    </tr>\n",
       "  </thead>\n",
       "  <tbody>\n",
       "    <tr>\n",
       "      <th>1</th>\n",
       "      <td>81197050</td>\n",
       "      <td>Guatemala: Heart of the Mayan World</td>\n",
       "      <td>Luis Ara, Ignacio Jaunsolo</td>\n",
       "      <td>Christian Morales</td>\n",
       "      <td>NaN</td>\n",
       "      <td>November 30, 2019</td>\n",
       "      <td>2019</td>\n",
       "      <td>TV-G</td>\n",
       "      <td>67 min</td>\n",
       "      <td>Documentaries, International Movies</td>\n",
       "      <td>From Sierra de las Minas to Esquipulas, explor...</td>\n",
       "      <td>Movie</td>\n",
       "    </tr>\n",
       "    <tr>\n",
       "      <th>2</th>\n",
       "      <td>81213894</td>\n",
       "      <td>The Zoya Factor</td>\n",
       "      <td>Abhishek Sharma</td>\n",
       "      <td>Sonam Kapoor, Dulquer Salmaan, Sanjay Kapoor, ...</td>\n",
       "      <td>India</td>\n",
       "      <td>November 30, 2019</td>\n",
       "      <td>2019</td>\n",
       "      <td>TV-14</td>\n",
       "      <td>135 min</td>\n",
       "      <td>Comedies, Dramas, International Movies</td>\n",
       "      <td>A goofy copywriter unwittingly convinces the I...</td>\n",
       "      <td>Movie</td>\n",
       "    </tr>\n",
       "    <tr>\n",
       "      <th>3</th>\n",
       "      <td>81082007</td>\n",
       "      <td>Atlantics</td>\n",
       "      <td>Mati Diop</td>\n",
       "      <td>Mama Sane, Amadou Mbow, Ibrahima Traore, Nicol...</td>\n",
       "      <td>France, Senegal, Belgium</td>\n",
       "      <td>November 29, 2019</td>\n",
       "      <td>2019</td>\n",
       "      <td>TV-14</td>\n",
       "      <td>106 min</td>\n",
       "      <td>Dramas, Independent Movies, International Movies</td>\n",
       "      <td>Arranged to marry a rich man, young Ada is cru...</td>\n",
       "      <td>Movie</td>\n",
       "    </tr>\n",
       "    <tr>\n",
       "      <th>5</th>\n",
       "      <td>81172754</td>\n",
       "      <td>Crazy people</td>\n",
       "      <td>Moses Inwang</td>\n",
       "      <td>Ramsey Nouah, Chigul, Sola Sobowale, Ireti Doy...</td>\n",
       "      <td>Nigeria</td>\n",
       "      <td>November 29, 2019</td>\n",
       "      <td>2018</td>\n",
       "      <td>TV-14</td>\n",
       "      <td>107 min</td>\n",
       "      <td>Comedies, International Movies, Thrillers</td>\n",
       "      <td>Nollywood star Ramsey Nouah learns that someon...</td>\n",
       "      <td>Movie</td>\n",
       "    </tr>\n",
       "    <tr>\n",
       "      <th>6</th>\n",
       "      <td>81120982</td>\n",
       "      <td>I Lost My Body</td>\n",
       "      <td>Jérémy Clapin</td>\n",
       "      <td>Hakim Faris, Victoire Du Bois, Patrick d'Assum...</td>\n",
       "      <td>France</td>\n",
       "      <td>November 29, 2019</td>\n",
       "      <td>2019</td>\n",
       "      <td>TV-MA</td>\n",
       "      <td>81 min</td>\n",
       "      <td>Dramas, Independent Movies, International Movies</td>\n",
       "      <td>Romance, mystery and adventure intertwine as a...</td>\n",
       "      <td>Movie</td>\n",
       "    </tr>\n",
       "  </tbody>\n",
       "</table>\n",
       "</div>"
      ],
      "text/plain": [
       "    show_id                                title                    director  \\\n",
       "1  81197050  Guatemala: Heart of the Mayan World  Luis Ara, Ignacio Jaunsolo   \n",
       "2  81213894                      The Zoya Factor             Abhishek Sharma   \n",
       "3  81082007                            Atlantics                   Mati Diop   \n",
       "5  81172754                         Crazy people                Moses Inwang   \n",
       "6  81120982                       I Lost My Body               Jérémy Clapin   \n",
       "\n",
       "                                                cast  \\\n",
       "1                                  Christian Morales   \n",
       "2  Sonam Kapoor, Dulquer Salmaan, Sanjay Kapoor, ...   \n",
       "3  Mama Sane, Amadou Mbow, Ibrahima Traore, Nicol...   \n",
       "5  Ramsey Nouah, Chigul, Sola Sobowale, Ireti Doy...   \n",
       "6  Hakim Faris, Victoire Du Bois, Patrick d'Assum...   \n",
       "\n",
       "                    country         date_added  release_year rating duration  \\\n",
       "1                       NaN  November 30, 2019          2019   TV-G   67 min   \n",
       "2                     India  November 30, 2019          2019  TV-14  135 min   \n",
       "3  France, Senegal, Belgium  November 29, 2019          2019  TV-14  106 min   \n",
       "5                   Nigeria  November 29, 2019          2018  TV-14  107 min   \n",
       "6                    France  November 29, 2019          2019  TV-MA   81 min   \n",
       "\n",
       "                                          listed_in  \\\n",
       "1               Documentaries, International Movies   \n",
       "2            Comedies, Dramas, International Movies   \n",
       "3  Dramas, Independent Movies, International Movies   \n",
       "5         Comedies, International Movies, Thrillers   \n",
       "6  Dramas, Independent Movies, International Movies   \n",
       "\n",
       "                                         description   type  \n",
       "1  From Sierra de las Minas to Esquipulas, explor...  Movie  \n",
       "2  A goofy copywriter unwittingly convinces the I...  Movie  \n",
       "3  Arranged to marry a rich man, young Ada is cru...  Movie  \n",
       "5  Nollywood star Ramsey Nouah learns that someon...  Movie  \n",
       "6  Romance, mystery and adventure intertwine as a...  Movie  "
      ]
     },
     "execution_count": 18,
     "metadata": {},
     "output_type": "execute_result"
    }
   ],
   "source": [
    "df = df[df['type'] == 'Movie']\n",
    "df.head()"
   ]
  },
  {
   "cell_type": "code",
   "execution_count": 19,
   "metadata": {},
   "outputs": [
    {
     "data": {
      "text/html": [
       "<div>\n",
       "<style scoped>\n",
       "    .dataframe tbody tr th:only-of-type {\n",
       "        vertical-align: middle;\n",
       "    }\n",
       "\n",
       "    .dataframe tbody tr th {\n",
       "        vertical-align: top;\n",
       "    }\n",
       "\n",
       "    .dataframe thead th {\n",
       "        text-align: right;\n",
       "    }\n",
       "</style>\n",
       "<table border=\"1\" class=\"dataframe\">\n",
       "  <thead>\n",
       "    <tr style=\"text-align: right;\">\n",
       "      <th></th>\n",
       "      <th>show_id</th>\n",
       "      <th>title</th>\n",
       "      <th>director</th>\n",
       "      <th>cast</th>\n",
       "      <th>country</th>\n",
       "      <th>date_added</th>\n",
       "      <th>release_year</th>\n",
       "      <th>rating</th>\n",
       "      <th>duration</th>\n",
       "      <th>listed_in</th>\n",
       "      <th>description</th>\n",
       "      <th>type</th>\n",
       "      <th>duration_int</th>\n",
       "    </tr>\n",
       "  </thead>\n",
       "  <tbody>\n",
       "    <tr>\n",
       "      <th>1</th>\n",
       "      <td>81197050</td>\n",
       "      <td>Guatemala: Heart of the Mayan World</td>\n",
       "      <td>Luis Ara, Ignacio Jaunsolo</td>\n",
       "      <td>Christian Morales</td>\n",
       "      <td>NaN</td>\n",
       "      <td>November 30, 2019</td>\n",
       "      <td>2019</td>\n",
       "      <td>TV-G</td>\n",
       "      <td>67 min</td>\n",
       "      <td>Documentaries, International Movies</td>\n",
       "      <td>From Sierra de las Minas to Esquipulas, explor...</td>\n",
       "      <td>Movie</td>\n",
       "      <td>67</td>\n",
       "    </tr>\n",
       "    <tr>\n",
       "      <th>2</th>\n",
       "      <td>81213894</td>\n",
       "      <td>The Zoya Factor</td>\n",
       "      <td>Abhishek Sharma</td>\n",
       "      <td>Sonam Kapoor, Dulquer Salmaan, Sanjay Kapoor, ...</td>\n",
       "      <td>India</td>\n",
       "      <td>November 30, 2019</td>\n",
       "      <td>2019</td>\n",
       "      <td>TV-14</td>\n",
       "      <td>135 min</td>\n",
       "      <td>Comedies, Dramas, International Movies</td>\n",
       "      <td>A goofy copywriter unwittingly convinces the I...</td>\n",
       "      <td>Movie</td>\n",
       "      <td>135</td>\n",
       "    </tr>\n",
       "    <tr>\n",
       "      <th>3</th>\n",
       "      <td>81082007</td>\n",
       "      <td>Atlantics</td>\n",
       "      <td>Mati Diop</td>\n",
       "      <td>Mama Sane, Amadou Mbow, Ibrahima Traore, Nicol...</td>\n",
       "      <td>France, Senegal, Belgium</td>\n",
       "      <td>November 29, 2019</td>\n",
       "      <td>2019</td>\n",
       "      <td>TV-14</td>\n",
       "      <td>106 min</td>\n",
       "      <td>Dramas, Independent Movies, International Movies</td>\n",
       "      <td>Arranged to marry a rich man, young Ada is cru...</td>\n",
       "      <td>Movie</td>\n",
       "      <td>106</td>\n",
       "    </tr>\n",
       "    <tr>\n",
       "      <th>5</th>\n",
       "      <td>81172754</td>\n",
       "      <td>Crazy people</td>\n",
       "      <td>Moses Inwang</td>\n",
       "      <td>Ramsey Nouah, Chigul, Sola Sobowale, Ireti Doy...</td>\n",
       "      <td>Nigeria</td>\n",
       "      <td>November 29, 2019</td>\n",
       "      <td>2018</td>\n",
       "      <td>TV-14</td>\n",
       "      <td>107 min</td>\n",
       "      <td>Comedies, International Movies, Thrillers</td>\n",
       "      <td>Nollywood star Ramsey Nouah learns that someon...</td>\n",
       "      <td>Movie</td>\n",
       "      <td>107</td>\n",
       "    </tr>\n",
       "    <tr>\n",
       "      <th>6</th>\n",
       "      <td>81120982</td>\n",
       "      <td>I Lost My Body</td>\n",
       "      <td>Jérémy Clapin</td>\n",
       "      <td>Hakim Faris, Victoire Du Bois, Patrick d'Assum...</td>\n",
       "      <td>France</td>\n",
       "      <td>November 29, 2019</td>\n",
       "      <td>2019</td>\n",
       "      <td>TV-MA</td>\n",
       "      <td>81 min</td>\n",
       "      <td>Dramas, Independent Movies, International Movies</td>\n",
       "      <td>Romance, mystery and adventure intertwine as a...</td>\n",
       "      <td>Movie</td>\n",
       "      <td>81</td>\n",
       "    </tr>\n",
       "  </tbody>\n",
       "</table>\n",
       "</div>"
      ],
      "text/plain": [
       "    show_id                                title                    director  \\\n",
       "1  81197050  Guatemala: Heart of the Mayan World  Luis Ara, Ignacio Jaunsolo   \n",
       "2  81213894                      The Zoya Factor             Abhishek Sharma   \n",
       "3  81082007                            Atlantics                   Mati Diop   \n",
       "5  81172754                         Crazy people                Moses Inwang   \n",
       "6  81120982                       I Lost My Body               Jérémy Clapin   \n",
       "\n",
       "                                                cast  \\\n",
       "1                                  Christian Morales   \n",
       "2  Sonam Kapoor, Dulquer Salmaan, Sanjay Kapoor, ...   \n",
       "3  Mama Sane, Amadou Mbow, Ibrahima Traore, Nicol...   \n",
       "5  Ramsey Nouah, Chigul, Sola Sobowale, Ireti Doy...   \n",
       "6  Hakim Faris, Victoire Du Bois, Patrick d'Assum...   \n",
       "\n",
       "                    country         date_added  release_year rating duration  \\\n",
       "1                       NaN  November 30, 2019          2019   TV-G   67 min   \n",
       "2                     India  November 30, 2019          2019  TV-14  135 min   \n",
       "3  France, Senegal, Belgium  November 29, 2019          2019  TV-14  106 min   \n",
       "5                   Nigeria  November 29, 2019          2018  TV-14  107 min   \n",
       "6                    France  November 29, 2019          2019  TV-MA   81 min   \n",
       "\n",
       "                                          listed_in  \\\n",
       "1               Documentaries, International Movies   \n",
       "2            Comedies, Dramas, International Movies   \n",
       "3  Dramas, Independent Movies, International Movies   \n",
       "5         Comedies, International Movies, Thrillers   \n",
       "6  Dramas, Independent Movies, International Movies   \n",
       "\n",
       "                                         description   type  duration_int  \n",
       "1  From Sierra de las Minas to Esquipulas, explor...  Movie            67  \n",
       "2  A goofy copywriter unwittingly convinces the I...  Movie           135  \n",
       "3  Arranged to marry a rich man, young Ada is cru...  Movie           106  \n",
       "5  Nollywood star Ramsey Nouah learns that someon...  Movie           107  \n",
       "6  Romance, mystery and adventure intertwine as a...  Movie            81  "
      ]
     },
     "execution_count": 19,
     "metadata": {},
     "output_type": "execute_result"
    }
   ],
   "source": [
    "# Criando uma nova coluna duration_intrecebe os valores de duration\n",
    "# .str.replace(' min', '') removendo o texto \"min\" e substituindo por nada.\n",
    "# .astype(int) Convertendo para inteiro\n",
    "df['duration_int'] = df['duration'].str.replace(' min', '').astype(int)\n",
    "df.head()"
   ]
  },
  {
   "cell_type": "code",
   "execution_count": null,
   "metadata": {},
   "outputs": [
    {
     "name": "stdout",
     "output_type": "stream",
     "text": [
      "Média da duração dos filmes: 98.03 minutos\n",
      "Mediana da duração dos filmes: 97.00 minutos\n",
      "Moda da duração dos filmes: 90 minutos\n"
     ]
    }
   ],
   "source": [
    "#df.head()\n",
    "\n",
    "# Filtrar apenas os filmes (onde 'duration' não é nulo e tem a palavra 'min' e são diferentes de nulo -> na=False)\n",
    "filmes = df[df['duration'].notnull() & df['duration'].str.contains('min', na=False)]\n",
    "\n",
    "# : na parte antes da vírgula significa \"selecione todas as linhas\" do DataFrame. Após a virgula está acessando a coluna 'duration' do DataFrame filmes para modificar seus valores no DataFrame original.\n",
    "\n",
    "# utilizado filmes['duration'].str.replace(' min', '', regex=False)  para remover o sufixo \" min\" da coluna 'duration' e deixar apenas o número da duração de cada filme. \n",
    "filmes.loc[:, 'duration'] = filmes['duration'].str.replace(' min', '', regex=False)\n",
    "\n",
    "# to_numeric -> convertendo 'duration' para inteiro, ignorando erros\n",
    "filmes.loc[:, 'duration'] = pd.to_numeric(filmes['duration'], errors='coerce')\n",
    "\n",
    "# Remover valores nulos resultantes da conversão\n",
    "#parâmetro subset é usado para especificar as colunas nas quais a operação será aplicada. \n",
    "filmes = filmes.dropna(subset=['duration'])\n",
    "\n",
    "# Calcular média, mediana e moda\n",
    "media_duracao = filmes['duration'].mean()\n",
    "mediana_duracao = filmes['duration'].median()\n",
    "\n",
    "#Calculando a moda , que é o valor mais frequente na coluna. \n",
    "# O índice [0] representa o primeiro valor da moda (ou seja, o valor mais comum na coluna \"duration\").\n",
    "moda_duracao = filmes['duration'].mode()[0]\n",
    "\n",
    "# Exibir os resultados\n",
    "print(f\"Média da duração dos filmes: {media_duracao:.2f} minutos\")\n",
    "print(f\"Mediana da duração dos filmes: {mediana_duracao:.2f} minutos\")\n",
    "print(f\"Moda da duração dos filmes: {moda_duracao} minutos\")"
   ]
  },
  {
   "cell_type": "markdown",
   "metadata": {},
   "source": [
    "● Qual o filme mais curto e mais longo?"
   ]
  },
  {
   "cell_type": "code",
   "execution_count": 24,
   "metadata": {},
   "outputs": [
    {
     "name": "stdout",
     "output_type": "stream",
     "text": [
      "O filme mais curto é Silent com duração de 3 minutos\n",
      "O filme mais longo é Black Mirror: Bandersnatch com duração de 312 minutos\n"
     ]
    }
   ],
   "source": [
    "# Encontrando o filme mais curto\n",
    "min_duracao_filme = df['duration_int'].min()\n",
    "\n",
    "# Encontrar o filme mais longo\n",
    "max_duracao_filme = df['duration_int'].max()\n",
    "\n",
    "# Armazenar a duração dos filmes\n",
    "#filme_mais_curto['duration'].values[0]\n",
    "#filme_mais_longo['duration'].values[0]\n",
    "\n",
    "\n",
    "filme_mais_curto = df[df['duration_int'] == min_duracao_filme]['title'].values\n",
    "filme_mais_longo = df[df['duration_int'] == max_duracao_filme]['title'].values\n",
    "\n",
    "print(f'O filme mais curto é {filme_mais_curto[0]} com duração de {min_duracao_filme} minutos')\n",
    "print(f'O filme mais longo é {filme_mais_longo[0]} com duração de {max_duracao_filme} minutos')\n",
    "\n"
   ]
  },
  {
   "cell_type": "markdown",
   "metadata": {},
   "source": [
    "### 4. Visualização de dados:\n",
    "\n",
    "● Criar um gráfico de barras para mostrar a quantidade de títulos\n",
    "por gênero.\n"
   ]
  },
  {
   "cell_type": "code",
   "execution_count": 9,
   "metadata": {},
   "outputs": [
    {
     "name": "stderr",
     "output_type": "stream",
     "text": [
      "C:\\Users\\ACER\\AppData\\Local\\Temp\\ipykernel_1968\\1230547676.py:3: FutureWarning: \n",
      "\n",
      "Passing `palette` without assigning `hue` is deprecated and will be removed in v0.14.0. Assign the `x` variable to `hue` and set `legend=False` for the same effect.\n",
      "\n",
      "  sns.barplot(x=conta_genero.index, y=conta_genero.values, palette=\"viridis\")\n"
     ]
    },
    {
     "data": {
      "image/png": "[encoded data removed]",
      "text/plain": [
       "<Figure size 1200x600 with 1 Axes>"
      ]
     },
     "metadata": {},
     "output_type": "display_data"
    }
   ],
   "source": [
    "# Criar o gráfico de barras\n",
    "plt.figure(figsize=(12, 6))  # Definir o tamanho do gráfico\n",
    "sns.barplot(x=conta_genero.index, y=conta_genero.values, palette=\"viridis\")\n",
    "\n",
    "# Adicionar título e rótulos\n",
    "plt.title('Quantidade de Títulos por Gênero', fontsize=14)\n",
    "plt.xlabel('Gênero', fontsize=12)\n",
    "plt.ylabel('Quantidade',fontsize=12)\n",
    "\n",
    "plt.xticks(rotation=90)  # Rotacionar os rótulos do eixo X para melhor leitura\n",
    "\n",
    "plt.show()"
   ]
  },
  {
   "cell_type": "markdown",
   "metadata": {},
   "source": [
    "\n",
    "● Criar um histograma para analisar a distribuição da duração dos\n",
    "filmes."
   ]
  },
  {
   "cell_type": "code",
   "execution_count": 25,
   "metadata": {},
   "outputs": [
    {
     "data": {
      "text/plain": [
       "<Figure size 800x1000 with 0 Axes>"
      ]
     },
     "metadata": {},
     "output_type": "display_data"
    },
    {
     "data": {
      "image/png": "[encoded data removed]",
      "text/plain": [
       "<Figure size 500x500 with 1 Axes>"
      ]
     },
     "metadata": {},
     "output_type": "display_data"
    }
   ],
   "source": [
    "plt.rcParams['figure.figsize'] = [8,10]\n",
    "sns.set_theme(style = 'darkgrid')\n",
    "\n",
    "plt.figure()\n",
    "sns.displot(df['duration_int'], kde = True)\n",
    "plt.title(\"Histograma Duração Filmes\")\n",
    "plt.xlabel('Duração')\n",
    "plt.ylabel('Distribuição')\n",
    "plt.show()"
   ]
  }
 ],
 "metadata": {
  "kernelspec": {
   "display_name": "Python 3",
   "language": "python",
   "name": "python3"
  },
  "language_info": {
   "codemirror_mode": {
    "name": "ipython",
    "version": 3
   },
   "file_extension": ".py",
   "mimetype": "text/x-python",
   "name": "python",
   "nbconvert_exporter": "python",
   "pygments_lexer": "ipython3",
   "version": "3.11.9"
  }
 },
 "nbformat": 4,
 "nbformat_minor": 2
}
