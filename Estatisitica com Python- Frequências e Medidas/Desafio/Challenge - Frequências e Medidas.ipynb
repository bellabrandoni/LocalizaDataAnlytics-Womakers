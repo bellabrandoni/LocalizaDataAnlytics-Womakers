{
 "cells": [
  {
   "cell_type": "markdown",
   "metadata": {},
   "source": [
    "# Challenge Frequência e Medidas"
   ]
  },
  {
   "cell_type": "markdown",
   "metadata": {},
   "source": [
    "### Desafio 1: O perfil do Catálogo da Netflix\n",
    "\n",
    "Esse desafio tem como objetivo responder algumas perguntas através da\n",
    "análise de dados, aprofundando o conhecimento em frequência e medidas.\n",
    "Os dados que deverão ser utilizado nesse script foram baixados do kaggle"
   ]
  },
  {
   "cell_type": "markdown",
   "metadata": {},
   "source": [
    "Este conjunto de dados consiste na lista de filmes e suas respectivas e\n",
    "suas informações.\n",
    "Variáveis:\n",
    "● show_id - id único do filme/série.\n",
    "\n",
    "● title - título do filme ou série\n",
    "\n",
    "● director - diretor do filme ou série\n",
    "\n",
    "● cast - elenco do filme ou série\n",
    "\n",
    "● country - país do filme ou série\n",
    "\n",
    "● date_added - data que foi adicionado no Netflix\n",
    "\n",
    "● reading score - ano de lançamento original do filme\n",
    "\n",
    "● rating - classificação da televisão\n",
    "\n",
    "● duration - duração total do filme ou série.\n",
    "\n",
    "● listed_in - categoria ou gênero do filme ou série.\n",
    "\n",
    "● description -descrição do filme ou série.\n",
    "\n",
    "● type - tipo de filme ou série\n",
    "\n",
    "Os dados são arquivos em .csv."
   ]
  },
  {
   "cell_type": "markdown",
   "metadata": {},
   "source": [
    "### 📝 Tarefas:\n",
    "### 1. Exploração inicial:\n",
    "   \n",
    "●  Quantas linhas e colunas tem o dataset?\n",
    "\n",
    "● Quais são os tipos das variáveis e se há valores ausentes?"
   ]
  },
  {
   "cell_type": "code",
   "execution_count": 1,
   "metadata": {},
   "outputs": [],
   "source": [
    "#importando bibliotecas \n",
    "import pandas as pd"
   ]
  },
  {
   "cell_type": "code",
   "execution_count": null,
   "metadata": {},
   "outputs": [],
   "source": [
    "#importando o dataset\n",
    "df = pd.read_csv(\"netflix_titles_nov_2019.csv\")\n",
    "df.head()"
   ]
  },
  {
   "cell_type": "code",
   "execution_count": 7,
   "metadata": {},
   "outputs": [
    {
     "name": "stdout",
     "output_type": "stream",
     "text": [
      "O dataset tem 5837 linhas e 12 colunas\n"
     ]
    }
   ],
   "source": [
    "#Quantas linhas e colunas tem o dataset?\n",
    "linhas, colunas = df.shape\n",
    "print(f\"O dataset tem {linhas} linhas e {colunas} colunas\")"
   ]
  },
  {
   "cell_type": "code",
   "execution_count": 11,
   "metadata": {},
   "outputs": [
    {
     "data": {
      "text/plain": [
       "show_id          int64\n",
       "title           object\n",
       "director        object\n",
       "cast            object\n",
       "country         object\n",
       "date_added      object\n",
       "release_year     int64\n",
       "rating          object\n",
       "duration        object\n",
       "listed_in       object\n",
       "description     object\n",
       "type            object\n",
       "dtype: object"
      ]
     },
     "execution_count": 11,
     "metadata": {},
     "output_type": "execute_result"
    }
   ],
   "source": [
    "#Quais são os tipos das variáveis e se há valores ausentes?\n",
    "#verificando o tipo de variaveis\n",
    "df.dtypes"
   ]
  },
  {
   "cell_type": "code",
   "execution_count": null,
   "metadata": {},
   "outputs": [
    {
     "data": {
      "text/plain": [
       "show_id            0\n",
       "title              0\n",
       "director        1901\n",
       "cast             556\n",
       "country          427\n",
       "date_added       642\n",
       "release_year       0\n",
       "rating            10\n",
       "duration           0\n",
       "listed_in          0\n",
       "description        0\n",
       "type               0\n",
       "dtype: int64"
      ]
     },
     "execution_count": 13,
     "metadata": {},
     "output_type": "execute_result"
    }
   ],
   "source": [
    "#contando quantos valores ausentes (`NaN`) existem em cada coluna.\n",
    "\n",
    "nulos = df.isnull().sum()\n",
    "nulos"
   ]
  },
  {
   "cell_type": "markdown",
   "metadata": {},
   "source": [
    "### 2. Análises de frequência:\n",
    "\n",
    "● Qual a proporção de filmes vs. séries no catálogo?\n",
    "\n",
    "● Qual o gênero mais frequente?"
   ]
  }
 ],
 "metadata": {
  "kernelspec": {
   "display_name": "Python 3",
   "language": "python",
   "name": "python3"
  },
  "language_info": {
   "codemirror_mode": {
    "name": "ipython",
    "version": 3
   },
   "file_extension": ".py",
   "mimetype": "text/x-python",
   "name": "python",
   "nbconvert_exporter": "python",
   "pygments_lexer": "ipython3",
   "version": "3.11.9"
  }
 },
 "nbformat": 4,
 "nbformat_minor": 2
}
