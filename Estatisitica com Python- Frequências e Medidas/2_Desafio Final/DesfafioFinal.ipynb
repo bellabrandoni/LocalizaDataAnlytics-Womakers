{
 "cells": [
  {
   "cell_type": "markdown",
   "metadata": {},
   "source": [
    "## Estatística Frequências e Medidas\n",
    "### Desafio Final"
   ]
  },
  {
   "cell_type": "markdown",
   "metadata": {},
   "source": [
    "Considerando a base de dados de enem_2023.json responda as questões\n",
    "abaixo (os dados são fictícios).\n",
    "Você é uma pesquisadora de um cursinho para estudantes que querem\n",
    "ingressar na universidade em 2025. Seu objetivo é retirar informações da base\n",
    "de dados do enem do ano anterior para alinhar melhor as estratégias do\n",
    "cursinho para cada estudante. O dado possui 6 colunas, 5 delas representam\n",
    "as disciplinas do ENEM e uma o gênero das pessoas que fizeram a prova. No\n",
    "dado existe a representação de 1000 pessoas, sendo cada uma delas uma\n",
    "linha."
   ]
  },
  {
   "cell_type": "markdown",
   "metadata": {},
   "source": [
    "1. Qual das disciplinas tem a maior amplitude de nota? "
   ]
  },
  {
   "cell_type": "code",
   "execution_count": 48,
   "metadata": {},
   "outputs": [],
   "source": [
    "import pandas as pd\n",
    "\n",
    "import numpy as np\n",
    "\n",
    "import matplotlib.pyplot as plt"
   ]
  },
  {
   "cell_type": "code",
   "execution_count": 27,
   "metadata": {},
   "outputs": [
    {
     "data": {
      "text/html": [
       "<div>\n",
       "<style scoped>\n",
       "    .dataframe tbody tr th:only-of-type {\n",
       "        vertical-align: middle;\n",
       "    }\n",
       "\n",
       "    .dataframe tbody tr th {\n",
       "        vertical-align: top;\n",
       "    }\n",
       "\n",
       "    .dataframe thead th {\n",
       "        text-align: right;\n",
       "    }\n",
       "</style>\n",
       "<table border=\"1\" class=\"dataframe\">\n",
       "  <thead>\n",
       "    <tr style=\"text-align: right;\">\n",
       "      <th></th>\n",
       "      <th>Linguagens</th>\n",
       "      <th>Ciências humanas</th>\n",
       "      <th>Ciências da natureza</th>\n",
       "      <th>Matemática</th>\n",
       "      <th>Redação</th>\n",
       "      <th>Sexo</th>\n",
       "    </tr>\n",
       "  </thead>\n",
       "  <tbody>\n",
       "    <tr>\n",
       "      <th>0</th>\n",
       "      <td>585.669300</td>\n",
       "      <td>686.512178</td>\n",
       "      <td>390.482473</td>\n",
       "      <td>452.281333</td>\n",
       "      <td>546.371706</td>\n",
       "      <td>Homem</td>\n",
       "    </tr>\n",
       "    <tr>\n",
       "      <th>1</th>\n",
       "      <td>359.384608</td>\n",
       "      <td>642.084134</td>\n",
       "      <td>NaN</td>\n",
       "      <td>412.205207</td>\n",
       "      <td>741.825256</td>\n",
       "      <td>Mulher</td>\n",
       "    </tr>\n",
       "    <tr>\n",
       "      <th>2</th>\n",
       "      <td>622.732384</td>\n",
       "      <td>495.510719</td>\n",
       "      <td>443.183580</td>\n",
       "      <td>669.683401</td>\n",
       "      <td>684.515750</td>\n",
       "      <td>Homem</td>\n",
       "    </tr>\n",
       "    <tr>\n",
       "      <th>3</th>\n",
       "      <td>350.164605</td>\n",
       "      <td>602.041588</td>\n",
       "      <td>413.979810</td>\n",
       "      <td>676.608952</td>\n",
       "      <td>671.237114</td>\n",
       "      <td>Homem</td>\n",
       "    </tr>\n",
       "    <tr>\n",
       "      <th>4</th>\n",
       "      <td>384.093657</td>\n",
       "      <td>489.249140</td>\n",
       "      <td>609.758123</td>\n",
       "      <td>520.426698</td>\n",
       "      <td>744.375048</td>\n",
       "      <td>Homem</td>\n",
       "    </tr>\n",
       "  </tbody>\n",
       "</table>\n",
       "</div>"
      ],
      "text/plain": [
       "   Linguagens  Ciências humanas  Ciências da natureza  Matemática     Redação  \\\n",
       "0  585.669300        686.512178            390.482473  452.281333  546.371706   \n",
       "1  359.384608        642.084134                   NaN  412.205207  741.825256   \n",
       "2  622.732384        495.510719            443.183580  669.683401  684.515750   \n",
       "3  350.164605        602.041588            413.979810  676.608952  671.237114   \n",
       "4  384.093657        489.249140            609.758123  520.426698  744.375048   \n",
       "\n",
       "     Sexo  \n",
       "0   Homem  \n",
       "1  Mulher  \n",
       "2   Homem  \n",
       "3   Homem  \n",
       "4   Homem  "
      ]
     },
     "execution_count": 27,
     "metadata": {},
     "output_type": "execute_result"
    }
   ],
   "source": [
    "DADOS = \"./base_dados/enem_2023.json\"\n",
    "\n",
    "df = pd.read_json(DADOS)\n",
    "df.head()\n",
    "\n"
   ]
  },
  {
   "cell_type": "code",
   "execution_count": null,
   "metadata": {},
   "outputs": [],
   "source": [
    "#vefificando valores nulos no dataframe \n",
    "valores_nulos = df.isnull().sum()   \n",
    "\n",
    "# Substituindo valores nulos por \"-\"\n",
    "valores_nulos = df.fillna(\"-\")\n",
    "valores_nulos\n",
    "\n"
   ]
  },
  {
   "cell_type": "code",
   "execution_count": null,
   "metadata": {},
   "outputs": [
    {
     "name": "stdout",
     "output_type": "stream",
     "text": [
      "A disciplina com maior amplitude é Redação com amplitude de 884.66\n"
     ]
    }
   ],
   "source": [
    "#Gerando um resumo estatístico apenas para as colunas que são numéricas.\n",
    "\n",
    "disciplinas = df.describe(exclude='object')\n",
    "\n",
    "# Converter as colunas para numéricas, forçando a conversão (qualquer \"-\" será tratado como NaN)\n",
    "disciplinas = disciplinas.apply(pd.to_numeric, errors='coerce')\n",
    "\n",
    "\n",
    "# Calcular a amplitude de cada disciplina (máximo - mínimo), agora com valores numéricos\n",
    "amplitude = disciplinas.max() - disciplinas.min()\n",
    "\n",
    "# Identificar a disciplina com maior amplitude\n",
    "disciplina_maior_amplitude = amplitude.idxmax()\n",
    "valor_maior_amplitude = amplitude.max()\n",
    "\n",
    "print(f\"A disciplina com maior amplitude é {disciplina_maior_amplitude} com amplitude de {valor_maior_amplitude:.2f}\")"
   ]
  },
  {
   "cell_type": "markdown",
   "metadata": {},
   "source": [
    "2. Qual é a média e a\n",
    "mediana para cada uma das disciplinas? (Lembre-se de remover todos os\n",
    "valores nulos quando considerar a mediana)"
   ]
  },
  {
   "cell_type": "code",
   "execution_count": 33,
   "metadata": {},
   "outputs": [
    {
     "name": "stdout",
     "output_type": "stream",
     "text": [
      "Disciplina: Linguagens\n",
      "  Média: 516.50\n",
      "  Mediana: 514.79\n",
      "----------------------------------------\n",
      "Disciplina: Ciências humanas\n",
      "  Média: 522.00\n",
      "  Mediana: 525.78\n",
      "----------------------------------------\n",
      "Disciplina: Ciências da natureza\n",
      "  Média: 501.55\n",
      "  Mediana: 499.90\n",
      "----------------------------------------\n",
      "Disciplina: Matemática\n",
      "  Média: 534.95\n",
      "  Mediana: 534.61\n",
      "----------------------------------------\n",
      "Disciplina: Redação\n",
      "  Média: 598.96\n",
      "  Mediana: 636.53\n",
      "----------------------------------------\n"
     ]
    }
   ],
   "source": [
    "# Calcular a média de cada disciplina\n",
    "media = disciplinas.mean()\n",
    "\n",
    "# Calcular a mediana de cada disciplina (ignorando valores nulos automaticamente)\n",
    "mediana = disciplinas.median()\n",
    "\n",
    "# Exibir resultados\n",
    "for coluna in disciplinas.columns:\n",
    "    print(f\"Disciplina: {coluna}\")\n",
    "    print(f\"  Média: {media[coluna]:.2f}\")\n",
    "    print(f\"  Mediana: {mediana[coluna]:.2f}\")\n",
    "    print(\"-\" * 40)"
   ]
  },
  {
   "cell_type": "markdown",
   "metadata": {},
   "source": [
    "3. Considerando o curso de Ciência da Computação da UFPE, onde o peso\n",
    "cada uma das disciplinas ponderado:\n",
    "\n",
    "    a. Redação - 2\n",
    "\n",
    "    b. Matemática e suas Tecnologias - 4\n",
    "\n",
    "    c. Linguagens, Códigos e suas Tecnologias - 2\n",
    "\n",
    "    d. Ciências Humanas e suas Tecnologias - 1\n",
    "\n",
    "    e. Ciências da Natureza e suas Tecnologias - 1\n",
    "\n",
    "Qual o desvio padrão e média das notas dos 500 estudantes mais bem colocados considerando esses pesos?\n"
   ]
  },
  {
   "cell_type": "code",
   "execution_count": 35,
   "metadata": {},
   "outputs": [
    {
     "data": {
      "text/html": [
       "<div>\n",
       "<style scoped>\n",
       "    .dataframe tbody tr th:only-of-type {\n",
       "        vertical-align: middle;\n",
       "    }\n",
       "\n",
       "    .dataframe tbody tr th {\n",
       "        vertical-align: top;\n",
       "    }\n",
       "\n",
       "    .dataframe thead th {\n",
       "        text-align: right;\n",
       "    }\n",
       "</style>\n",
       "<table border=\"1\" class=\"dataframe\">\n",
       "  <thead>\n",
       "    <tr style=\"text-align: right;\">\n",
       "      <th></th>\n",
       "      <th>Linguagens</th>\n",
       "      <th>Ciências humanas</th>\n",
       "      <th>Ciências da natureza</th>\n",
       "      <th>Matemática</th>\n",
       "      <th>Redação</th>\n",
       "      <th>Sexo</th>\n",
       "    </tr>\n",
       "  </thead>\n",
       "  <tbody>\n",
       "    <tr>\n",
       "      <th>0</th>\n",
       "      <td>585.669300</td>\n",
       "      <td>686.512178</td>\n",
       "      <td>390.482473</td>\n",
       "      <td>452.281333</td>\n",
       "      <td>546.371706</td>\n",
       "      <td>Homem</td>\n",
       "    </tr>\n",
       "    <tr>\n",
       "      <th>1</th>\n",
       "      <td>359.384608</td>\n",
       "      <td>642.084134</td>\n",
       "      <td>NaN</td>\n",
       "      <td>412.205207</td>\n",
       "      <td>741.825256</td>\n",
       "      <td>Mulher</td>\n",
       "    </tr>\n",
       "    <tr>\n",
       "      <th>2</th>\n",
       "      <td>622.732384</td>\n",
       "      <td>495.510719</td>\n",
       "      <td>443.183580</td>\n",
       "      <td>669.683401</td>\n",
       "      <td>684.515750</td>\n",
       "      <td>Homem</td>\n",
       "    </tr>\n",
       "    <tr>\n",
       "      <th>3</th>\n",
       "      <td>350.164605</td>\n",
       "      <td>602.041588</td>\n",
       "      <td>413.979810</td>\n",
       "      <td>676.608952</td>\n",
       "      <td>671.237114</td>\n",
       "      <td>Homem</td>\n",
       "    </tr>\n",
       "    <tr>\n",
       "      <th>4</th>\n",
       "      <td>384.093657</td>\n",
       "      <td>489.249140</td>\n",
       "      <td>609.758123</td>\n",
       "      <td>520.426698</td>\n",
       "      <td>744.375048</td>\n",
       "      <td>Homem</td>\n",
       "    </tr>\n",
       "  </tbody>\n",
       "</table>\n",
       "</div>"
      ],
      "text/plain": [
       "   Linguagens  Ciências humanas  Ciências da natureza  Matemática     Redação  \\\n",
       "0  585.669300        686.512178            390.482473  452.281333  546.371706   \n",
       "1  359.384608        642.084134                   NaN  412.205207  741.825256   \n",
       "2  622.732384        495.510719            443.183580  669.683401  684.515750   \n",
       "3  350.164605        602.041588            413.979810  676.608952  671.237114   \n",
       "4  384.093657        489.249140            609.758123  520.426698  744.375048   \n",
       "\n",
       "     Sexo  \n",
       "0   Homem  \n",
       "1  Mulher  \n",
       "2   Homem  \n",
       "3   Homem  \n",
       "4   Homem  "
      ]
     },
     "execution_count": 35,
     "metadata": {},
     "output_type": "execute_result"
    }
   ],
   "source": [
    "df.head()"
   ]
  },
  {
   "cell_type": "code",
   "execution_count": 36,
   "metadata": {},
   "outputs": [
    {
     "data": {
      "text/plain": [
       "{'Redação': 2,\n",
       " 'Matemática': 4,\n",
       " 'Linguagens': 2,\n",
       " 'Ciências humanas': 1,\n",
       " 'Ciências da natureza': 1}"
      ]
     },
     "execution_count": 36,
     "metadata": {},
     "output_type": "execute_result"
    }
   ],
   "source": [
    "#definindo pesos num dicionario\n",
    "pesos = {\n",
    "    'Redação': 2,\n",
    "    'Matemática': 4,\n",
    "    'Linguagens': 2,\n",
    "    'Ciências humanas': 1,\n",
    "    'Ciências da natureza': 1\n",
    "}\n",
    "pesos"
   ]
  },
  {
   "cell_type": "code",
   "execution_count": null,
   "metadata": {},
   "outputs": [
    {
     "name": "stdout",
     "output_type": "stream",
     "text": [
      "Média ponderada das notas dos 500 melhores colocados: 556.63\n",
      "Desvio padrão ponderado das notas dos 500 melhores colocados: 1128.57\n"
     ]
    }
   ],
   "source": [
    "\n",
    "# Selecionar os 500 melhores colocados. Para isso, vamos somar as notas de todas as disciplinas.\n",
    "\n",
    "# `df[disciplinas.columns]` seleciona essas colunas no DataFrame `df`. Então, `df[disciplinas.columns]` vai resultar em um novo DataFrame contendo apenas as colunas de notas para as disciplinas.\n",
    "#- `sum(axis=1) -> Isso resulta na soma das notas de todas as disciplinas para cada estudante.\n",
    "\n",
    "df['total'] = df[disciplinas.columns].sum(axis=1)\n",
    "#df['total']\n",
    "\n",
    "\n",
    "# Ordenar pelos melhores alunos (maiores totais de nota)\n",
    "#`nlargest()` é utilizada para ordenar as linhas de acordo com a coluna especificada (neste caso, 'total') em ordem **decrescente** (do maior para o menor) e retorna os 500 primeiros valores.\n",
    "df_top500 = df.nlargest(500, 'total')\n",
    "\n",
    "# Calcular as notas ponderadas para os 500 melhores\n",
    "# Multiplicar as notas de cada disciplina pelos seus respectivos pesos\n",
    "notas_ponderadas = df_top500[disciplinas.columns] * pd.Series(pesos)\n",
    "\n",
    "# Calcular a soma das notas ponderadas para cada estudante\n",
    "notas_ponderadas_soma = notas_ponderadas.sum(axis=1)\n",
    "\n",
    "# Calcular a média ponderada: soma das notas ponderadas dividida pela soma dos pesos\n",
    "soma_pesos = sum(pesos.values())\n",
    "media_ponderada = notas_ponderadas_soma.sum() / (500 * soma_pesos)\n",
    "\n",
    "# Calcular o desvio padrão ponderado\n",
    "# Primeiramente, calcular a variância ponderada para cada estudante\n",
    "variancia_ponderada = ((notas_ponderadas - media_ponderada) ** 2 * pd.Series(pesos)).sum(axis=1) / soma_pesos\n",
    "desvio_padrao_ponderado = np.sqrt(variancia_ponderada.mean())\n",
    "\n",
    "# Exibir os resultados\n",
    "print(f\"Média ponderada das notas dos 500 melhores colocados: {media_ponderada:.2f}\")\n",
    "print(f\"Desvio padrão ponderado das notas dos 500 melhores colocados: {desvio_padrao_ponderado:.2f}\")"
   ]
  },
  {
   "cell_type": "markdown",
   "metadata": {},
   "source": [
    "4. Se todos esses estudantes aplicassem para ciência da computação e\n",
    "existem apenas 40 vagas, qual seria a variância e média da nota dos\n",
    "estudantes que entraram no curso de ciência da computação?"
   ]
  },
  {
   "cell_type": "code",
   "execution_count": null,
   "metadata": {},
   "outputs": [
    {
     "name": "stdout",
     "output_type": "stream",
     "text": [
      "Média das notas ponderadas dos 40 melhores: 6366.83\n",
      "Variância das notas ponderadas dos 40 melhores: 29576.75\n"
     ]
    }
   ],
   "source": [
    "# Ordenando os estudantes pelas notas ponderadas (maiores para menores)\n",
    "df['nota_ponderada'] = notas_ponderadas_soma\n",
    "df_sorted = df.nlargest(500, 'nota_ponderada')\n",
    "\n",
    "# Selecionando os 40 melhores (considerando as vagas disponíveis)\n",
    "top_40 = df_sorted.head(40)\n",
    "\n",
    "# Calculando a média e variância das notas ponderadas dos 40 melhores\n",
    "media_top_40 = top_40['nota_ponderada'].mean()\n",
    "variancia_top_40 = top_40['nota_ponderada'].var()\n",
    "\n",
    "\n",
    "print(f\"Média das notas ponderadas dos 40 melhores: {media_top_40:.2f}\")\n",
    "print(f\"Variância das notas ponderadas dos 40 melhores: {variancia_top_40:.2f}\")\n"
   ]
  },
  {
   "cell_type": "markdown",
   "metadata": {},
   "source": [
    "5. Qual o valor do teto do terceiro quartil para as disciplinas de matemática\n",
    "e linguagens?"
   ]
  },
  {
   "cell_type": "markdown",
   "metadata": {},
   "source": [
    "O terceiro quartil (Q3) representa o valor que divide o top 25% dos dados, ou seja, 75% dos dados estão abaixo dele e 25% estão acima. Para calcular o teto do terceiro quartil, você precisa identificar o valor correspondente ao terceiro quartil de cada disciplina e arredondá-lo para o valor inteiro superior (teto)."
   ]
  },
  {
   "cell_type": "code",
   "execution_count": 47,
   "metadata": {},
   "outputs": [
    {
     "name": "stdout",
     "output_type": "stream",
     "text": [
      "Teto do terceiro quartil para Matemática: 593.0\n",
      "Teto do terceiro quartil para Linguagens: 572.0\n"
     ]
    }
   ],
   "source": [
    "\n",
    "#calculando o terceiro quartil (Q3) para a coluna 'Linguagens' e  'Matemática', que é o valor abaixo do qual 75% dos dados dessa coluna estão localizados.\n",
    "terceiro_quartil_matematica = np.ceil(df['Matemática'].quantile(0.75))\n",
    "terceiro_quartil_linguagens = np.ceil(df['Linguagens'].quantile(0.75))\n",
    "\n",
    "\n",
    "print(f\"Teto do terceiro quartil para Matemática: {terceiro_quartil_matematica}\")\n",
    "print(f\"Teto do terceiro quartil para Linguagens: {terceiro_quartil_linguagens}\")"
   ]
  },
  {
   "cell_type": "markdown",
   "metadata": {},
   "source": [
    "6. Faça o histograma de Redação e Linguagens, de 20 em 20 pontos.\n",
    "Podemos dizer que são histogramas simétricos, justifique e classifique se\n",
    "não assimétricas?"
   ]
  },
  {
   "cell_type": "code",
   "execution_count": null,
   "metadata": {},
   "outputs": [
    {
     "data": {
      "image/png": "[encoded data removed]",
      "text/plain": [
       "<Figure size 1200x600 with 2 Axes>"
      ]
     },
     "metadata": {},
     "output_type": "display_data"
    }
   ],
   "source": [
    "# Gerar os histogramas para Redação e Linguagens, com intervalos de 20 pontos\n",
    "plt.figure(figsize=(12, 6))\n",
    "\n",
    "# Histograma para Redação\n",
    "plt.subplot(1, 2, 1)\n",
    "plt.hist(df['Redação'], bins=range(int(df['Redação'].min()), int(df['Redação'].max()) + 20, 20), edgecolor='black', color='skyblue')\n",
    "plt.title('Histograma de Redação')\n",
    "plt.xlabel('Notas de Redação')\n",
    "plt.ylabel('Frequência')\n",
    "\n",
    "# Histograma para Linguagens\n",
    "plt.subplot(1, 2, 2)\n",
    "plt.hist(df['Linguagens'], bins=range(int(df['Linguagens'].min()), int(df['Linguagens'].max()) + 20, 20), edgecolor='black', color='lightgreen')\n",
    "plt.title('Histograma de Linguagens')\n",
    "plt.xlabel('Notas de Linguagens')\n",
    "plt.ylabel('Frequência')\n",
    "\n",
    "\n",
    "plt.tight_layout()\n",
    "plt.show()"
   ]
  },
  {
   "cell_type": "markdown",
   "metadata": {},
   "source": [
    "7. Agora coloque um range fixo de 0 até 1000, você ainda tem a mesma\n",
    "opinião quanto a simetria? [plt.hist(dado, bins=_, range=[0, 1000])"
   ]
  },
  {
   "cell_type": "code",
   "execution_count": 56,
   "metadata": {},
   "outputs": [
    {
     "data": {
      "image/png": "[encoded data removed]",
      "text/plain": [
       "<Figure size 1200x600 with 2 Axes>"
      ]
     },
     "metadata": {},
     "output_type": "display_data"
    }
   ],
   "source": [
    "# Gerar os histogramas para Redação e Linguagens, com intervalo fixo de 0 a 1000\n",
    "plt.figure(figsize=(12, 6))\n",
    "\n",
    "# Histograma para Redação\n",
    "plt.subplot(1, 2, 1)\n",
    "plt.hist(df['Redação'], bins=range(0, 1001, 20), edgecolor='black', color='skyblue', range=[0, 1000])\n",
    "plt.title('Histograma de Redação')\n",
    "plt.xlabel('Notas de Redação')\n",
    "plt.ylabel('Frequência')\n",
    "\n",
    "# Histograma para Linguagens\n",
    "plt.subplot(1, 2, 2)\n",
    "plt.hist(df['Linguagens'], bins=range(0, 1001, 20), edgecolor='black', color='lightgreen', range=[0, 1000])\n",
    "plt.title('Histograma de Linguagens')\n",
    "plt.xlabel('Notas de Linguagens')\n",
    "plt.ylabel('Frequência')\n",
    "\n",
    "# Exibir os gráficos\n",
    "plt.tight_layout()\n",
    "plt.show()"
   ]
  },
  {
   "cell_type": "markdown",
   "metadata": {},
   "source": [
    "8. Faça um boxplot para as notas de Ciências da Natureza e Redação,\n",
    "analisando os quartis e identificando possíveis outliers. Utilize o método\n",
    "IQR (Intervalo Interquartílico) para essa análise.\n",
    "\n"
   ]
  },
  {
   "cell_type": "code",
   "execution_count": 57,
   "metadata": {},
   "outputs": [
    {
     "name": "stdout",
     "output_type": "stream",
     "text": [
      "Limite inferior para Ciências da Natureza: 172.52609480498734\n",
      "Limite superior para Ciências da Natureza: 755.2440479606877\n",
      "Limite inferior para Redação: 214.65540554858745\n",
      "Limite superior para Redação: 991.1633911188876\n"
     ]
    }
   ],
   "source": [
    "# Substituir valores nulos nas colunas de interesse por 0\n",
    "df['Ciências da natureza'] = df['Ciências da natureza'].fillna(0)\n",
    "df['Redação'] = df['Redação'].fillna(0)\n",
    "\n",
    "# Calcular os quartis e o IQR para Ciências da Natureza\n",
    "Q1_ciencias = np.percentile(df['Ciências da natureza'], 25)\n",
    "Q3_ciencias = np.percentile(df['Ciências da natureza'], 75)\n",
    "IQR_ciencias = Q3_ciencias - Q1_ciencias\n",
    "\n",
    "# Calcular os quartis e o IQR para Redação\n",
    "Q1_redacao = np.percentile(df['Redação'], 25)\n",
    "Q3_redacao = np.percentile(df['Redação'], 75)\n",
    "IQR_redacao = Q3_redacao - Q1_redacao\n",
    "\n",
    "# Calcular os limites inferior e superior para os outliers\n",
    "limite_inferior_ciencias = Q1_ciencias - 1.5 * IQR_ciencias\n",
    "limite_superior_ciencias = Q3_ciencias + 1.5 * IQR_ciencias\n",
    "\n",
    "limite_inferior_redacao = Q1_redacao - 1.5 * IQR_redacao\n",
    "limite_superior_redacao = Q3_redacao + 1.5 * IQR_redacao\n",
    "\n",
    "# Exibir os limites de outliers\n",
    "print(f\"Limite inferior para Ciências da Natureza: {limite_inferior_ciencias}\")\n",
    "print(f\"Limite superior para Ciências da Natureza: {limite_superior_ciencias}\")\n",
    "print(f\"Limite inferior para Redação: {limite_inferior_redacao}\")\n",
    "print(f\"Limite superior para Redação: {limite_superior_redacao}\")"
   ]
  },
  {
   "cell_type": "code",
   "execution_count": 58,
   "metadata": {},
   "outputs": [
    {
     "data": {
      "image/png": "[encoded data removed]",
      "text/plain": [
       "<Figure size 1000x600 with 2 Axes>"
      ]
     },
     "metadata": {},
     "output_type": "display_data"
    }
   ],
   "source": [
    "\n",
    "# Criar o boxplot para Ciências da Natureza e Redação\n",
    "plt.figure(figsize=(10, 6))\n",
    "\n",
    "# Boxplot para Ciências da Natureza\n",
    "plt.subplot(1, 2, 1)\n",
    "plt.boxplot(df['Ciências da natureza'], vert=False, patch_artist=True, notch=True, \n",
    "            boxprops=dict(facecolor='skyblue', color='black'), \n",
    "            flierprops=dict(markerfacecolor='red', marker='o', markersize=8))\n",
    "plt.title('Boxplot de Ciências da Natureza')\n",
    "plt.xlabel('Notas de Ciências da Natureza')\n",
    "\n",
    "# Boxplot para Redação\n",
    "plt.subplot(1, 2, 2)\n",
    "plt.boxplot(df['Redação'], vert=False, patch_artist=True, notch=True, \n",
    "            boxprops=dict(facecolor='lightgreen', color='black'), \n",
    "            flierprops=dict(markerfacecolor='red', marker='o', markersize=8))\n",
    "plt.title('Boxplot de Redação')\n",
    "plt.xlabel('Notas de Redação')\n",
    "\n",
    "# Exibir os gráficos\n",
    "plt.tight_layout()\n",
    "plt.show()"
   ]
  },
  {
   "cell_type": "markdown",
   "metadata": {},
   "source": [
    "9. Remova todos os outliers e verifique se eles são passíveis de alterar a\n",
    "média nacional significativamente? (considere significativamente um valor\n",
    "acima de 5%)"
   ]
  },
  {
   "cell_type": "code",
   "execution_count": 60,
   "metadata": {},
   "outputs": [
    {
     "name": "stdout",
     "output_type": "stream",
     "text": [
      "Média original de Ciências da Natureza: 411.43604026755935\n",
      "Média de Ciências da Natureza sem outliers: 501.39269754373544\n",
      "Variação percentual de Ciências da Natureza: -21.864068402388067%\n",
      "Média original de Redação: 548.493837579845\n",
      "Média de Redação sem outliers: 637.96633338318\n",
      "Variação percentual de Redação: -16.312397637523194%\n",
      "A remoção dos outliers de Ciências da Natureza não alterou a média significativamente\n",
      "A remoção dos outliers de Redação não alterou a média significativamente\n"
     ]
    }
   ],
   "source": [
    "# Substituir valores nulos nas colunas de interesse por 0\n",
    "df['Ciências da natureza'] = df['Ciências da natureza'].fillna(0)\n",
    "df['Redação'] = df['Redação'].fillna(0)\n",
    "\n",
    "# Calcular os quartis e o IQR para Ciências da Natureza\n",
    "Q1_ciencias = np.percentile(df['Ciências da natureza'], 25)\n",
    "Q3_ciencias = np.percentile(df['Ciências da natureza'], 75)\n",
    "IQR_ciencias = Q3_ciencias - Q1_ciencias\n",
    "\n",
    "# Calcular os quartis e o IQR para Redação\n",
    "Q1_redacao = np.percentile(df['Redação'], 25)\n",
    "Q3_redacao = np.percentile(df['Redação'], 75)\n",
    "IQR_redacao = Q3_redacao - Q1_redacao\n",
    "\n",
    "# Calcular os limites inferior e superior para os outliers\n",
    "limite_inferior_ciencias = Q1_ciencias - 1.5 * IQR_ciencias\n",
    "limite_superior_ciencias = Q3_ciencias + 1.5 * IQR_ciencias\n",
    "\n",
    "limite_inferior_redacao = Q1_redacao - 1.5 * IQR_redacao\n",
    "limite_superior_redacao = Q3_redacao + 1.5 * IQR_redacao\n",
    "\n",
    "# Calcular a média antes de remover os outliers\n",
    "media_ciencias_original = df['Ciências da natureza'].mean()\n",
    "media_redacao_original = df['Redação'].mean()\n",
    "\n",
    "# Remover os outliers (valores fora do intervalo IQR)\n",
    "df_sem_outliers = df[\n",
    "    (df['Ciências da natureza'] >= limite_inferior_ciencias) &\n",
    "    (df['Ciências da natureza'] <= limite_superior_ciencias) &\n",
    "    (df['Redação'] >= limite_inferior_redacao) &\n",
    "    (df['Redação'] <= limite_superior_redacao)\n",
    "]\n",
    "\n",
    "# Calcular a média após remover os outliers\n",
    "media_ciencias_sem_outliers = df_sem_outliers['Ciências da natureza'].mean()\n",
    "media_redacao_sem_outliers = df_sem_outliers['Redação'].mean()\n",
    "\n",
    "# Calcular a variação percentual da média\n",
    "variação_percentual_ciencias = ((media_ciencias_original - media_ciencias_sem_outliers) / media_ciencias_original) * 100\n",
    "variação_percentual_redacao = ((media_redacao_original - media_redacao_sem_outliers) / media_redacao_original) * 100\n",
    "\n",
    "# Exibir as médias antes e depois, e a variação percentual\n",
    "print(f\"Média original de Ciências da Natureza: {media_ciencias_original}\")\n",
    "print(f\"Média de Ciências da Natureza sem outliers: {media_ciencias_sem_outliers}\")\n",
    "print(f\"Variação percentual de Ciências da Natureza: {variação_percentual_ciencias}%\")\n",
    "\n",
    "print(f\"Média original de Redação: {media_redacao_original}\")\n",
    "print(f\"Média de Redação sem outliers: {media_redacao_sem_outliers}\")\n",
    "print(f\"Variação percentual de Redação: {variação_percentual_redacao}%\")\n",
    "\n",
    "# Verificar se a variação percentual é maior que 5%\n",
    "if variação_percentual_ciencias > 5:\n",
    "    print(\"A remoção dos outliers de Ciências da Natureza alterou a média significativamente (> 5%)\")\n",
    "else:\n",
    "    print(\"A remoção dos outliers de Ciências da Natureza não alterou a média significativamente\")\n",
    "\n",
    "if variação_percentual_redacao > 5:\n",
    "    print(\"A remoção dos outliers de Redação alterou a média significativamente (> 5%)\")\n",
    "else:\n",
    "    print(\"A remoção dos outliers de Redação não alterou a média significativamente\")"
   ]
  },
  {
   "cell_type": "markdown",
   "metadata": {},
   "source": [
    "10. Considerando valores nulos, tente encontrar qual seria a melhor medida\n",
    "de tendência que pode substituir as notas nulas. Média, moda ou mediana?\n",
    "Substitua o valor por todos os três e diga qual delas altera menos a média\n",
    "geral e o desvio padrão.\n"
   ]
  },
  {
   "cell_type": "code",
   "execution_count": 73,
   "metadata": {},
   "outputs": [],
   "source": [
    "# Verifique se há concatenamentos estranhos na coluna 'Sexo' (ou a coluna que está causando o erro)\n",
    "df[df['Sexo'].str.contains(\"HomemMulher\", na=False)]\n",
    "\n",
    "# Corrigindo a concatenação na coluna 'Sexo', substituindo a string 'HomemMulher' por uma string mais apropriada\n",
    "df['Sexo'] = df['Sexo'].str.replace('HomemMulher', 'Homem, Mulher')\n",
    "\n",
    "# Se há mais combinações, como \"MulherHomem\", podemos fazer uma substituição similar\n",
    "# Corrigindo a concatenação na coluna 'Sexo', substituindo a string 'MulherHomem' por uma string mais apropriada\n",
    "df['Sexo'] = df['Sexo'].str.replace('MulherHomem', 'Homem, Mulher')\n"
   ]
  },
  {
   "cell_type": "code",
   "execution_count": null,
   "metadata": {},
   "outputs": [],
   "source": [
    "# Substituir valores nulos nas colunas de interesse\n",
    "# Primeiro, calcular as medidas de tendência central (média, mediana, moda)\n",
    "media_ciencias = df['Ciências da natureza'].mean()\n",
    "mediana_ciencias = df['Ciências da natureza'].median()\n",
    "moda_ciencias = df['Ciências da natureza'].mode()[0]\n",
    "\n",
    "media_redacao = df['Redação'].mean()\n",
    "mediana_redacao = df['Redação'].median()\n",
    "moda_redacao = df['Redação'].mode()[0]\n",
    "\n",
    "# Substituir valores nulos por média, mediana e moda nas respectivas colunas\n",
    "\n",
    "# Substituir nulos por Média\n",
    "df_media = df.copy()\n",
    "df_media['Ciências da natureza'] = df_media['Ciências da natureza'].fillna(media_ciencias)\n",
    "df_media['Redação'] = df_media['Redação'].fillna(media_redacao)\n",
    "\n",
    "# Substituir nulos por Mediana\n",
    "df_mediana = df.copy()\n",
    "df_mediana['Ciências da natureza'] = df_mediana['Ciências da natureza'].fillna(mediana_ciencias)\n",
    "df_mediana['Redação'] = df_mediana['Redação'].fillna(mediana_redacao)\n",
    "\n",
    "# Substituir nulos por Moda\n",
    "df_moda = df.copy()\n",
    "df_moda['Ciências da natureza'] = df_moda['Ciências da natureza'].fillna(moda_ciencias)\n",
    "df_moda['Redação'] = df_moda['Redação'].fillna(moda_redacao)\n",
    "\n",
    "# Função para calcular média e desvio padrão\n",
    "def calcular_media_desvio(df):\n",
    "    media = df.mean().mean()  # Média de todas as colunas\n",
    "    desvio = df.std().mean()  # Desvio padrão de todas as colunas\n",
    "    return media, desvio\n",
    "\n",
    "# Calcular a média e desvio padrão antes de substituir valores nulos\n",
    "media_original, desvio_original = calcular_media_desvio(df)\n",
    "\n",
    "# Calcular a média e desvio padrão após substituir por Média\n",
    "media_media, desvio_media = calcular_media_desvio(df_media)\n",
    "\n",
    "# Calcular a média e desvio padrão após substituir por Mediana\n",
    "media_mediana, desvio_mediana = calcular_media_desvio(df_mediana)\n",
    "\n",
    "# Calcular a média e desvio padrão após substituir por Moda\n",
    "media_moda, desvio_moda = calcular_media_desvio(df_moda)\n",
    "\n",
    "# Exibir os resultados\n",
    "print(f\"Média original: {media_original}\")\n",
    "print(f\"Desvio padrão original: {desvio_original}\")\n",
    "\n",
    "print(f\"\\nApós substituir por Média:\")\n",
    "print(f\"Média: {media_media}\")\n",
    "print(f\"Desvio padrão: {desvio_media}\")\n",
    "\n",
    "print(f\"\\nApós substituir por Mediana:\")\n",
    "print(f\"Média: {media_mediana}\")\n",
    "print(f\"Desvio padrão: {desvio_mediana}\")\n",
    "\n",
    "print(f\"\\nApós substituir por Moda:\")\n",
    "print(f\"Média: {media_moda}\")\n",
    "print(f\"Desvio padrão: {desvio_moda}\")"
   ]
  },
  {
   "cell_type": "code",
   "execution_count": 78,
   "metadata": {},
   "outputs": [
    {
     "name": "stdout",
     "output_type": "stream",
     "text": [
      "Média original: 1494.4007642616082\n",
      "Desvio padrão original: 235.27211928759874\n",
      "\n",
      "Após substituir por Média:\n",
      "Média: 1494.4007642616082\n",
      "Desvio padrão: 235.27211928759874\n",
      "\n",
      "Após substituir por Mediana:\n",
      "Média: 1494.4007642616082\n",
      "Desvio padrão: 235.27211928759874\n",
      "\n",
      "Após substituir por Moda:\n",
      "Média: 1494.4007642616082\n",
      "Desvio padrão: 235.27211928759874\n"
     ]
    }
   ],
   "source": [
    "# Identificar as colunas numéricas do DataFrame\n",
    "cols_numericas = df_numerico.columns\n",
    "\n",
    "# Calcular a média e desvio padrão antes de substituir valores nulos\n",
    "media_original, desvio_original = calcular_media_desvio(df_numerico)\n",
    "\n",
    "# Calcular a média e desvio padrão após substituir por Média\n",
    "df_media_numerico = df_media[cols_numericas]  # Garantir que estamos trabalhando apenas com colunas numéricas\n",
    "media_media, desvio_media = calcular_media_desvio(df_media_numerico)\n",
    "\n",
    "# Calcular a média e desvio padrão após substituir por Mediana\n",
    "df_mediana_numerico = df_mediana[cols_numericas]  # Garantir que estamos trabalhando apenas com colunas numéricas\n",
    "media_mediana, desvio_mediana = calcular_media_desvio(df_mediana_numerico)\n",
    "\n",
    "# Calcular a média e desvio padrão após substituir por Moda\n",
    "df_moda_numerico = df_moda[cols_numericas]  # Garantir que estamos trabalhando apenas com colunas numéricas\n",
    "media_moda, desvio_moda = calcular_media_desvio(df_moda_numerico)\n",
    "\n",
    "# Exibir os resultados\n",
    "print(f\"Média original: {media_original}\")\n",
    "print(f\"Desvio padrão original: {desvio_original}\")\n",
    "\n",
    "print(f\"\\nApós substituir por Média:\")\n",
    "print(f\"Média: {media_media}\")\n",
    "print(f\"Desvio padrão: {desvio_media}\")\n",
    "\n",
    "print(f\"\\nApós substituir por Mediana:\")\n",
    "print(f\"Média: {media_mediana}\")\n",
    "print(f\"Desvio padrão: {desvio_mediana}\")\n",
    "\n",
    "print(f\"\\nApós substituir por Moda:\")\n",
    "print(f\"Média: {media_moda}\")\n",
    "print(f\"Desvio padrão: {desvio_moda}\")\n"
   ]
  }
 ],
 "metadata": {
  "kernelspec": {
   "display_name": "Python 3",
   "language": "python",
   "name": "python3"
  },
  "language_info": {
   "codemirror_mode": {
    "name": "ipython",
    "version": 3
   },
   "file_extension": ".py",
   "mimetype": "text/x-python",
   "name": "python",
   "nbconvert_exporter": "python",
   "pygments_lexer": "ipython3",
   "version": "3.11.9"
  }
 },
 "nbformat": 4,
 "nbformat_minor": 2
}
