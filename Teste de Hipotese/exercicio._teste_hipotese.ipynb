{
 "cells": [
  {
   "cell_type": "markdown",
   "id": "58494467",
   "metadata": {},
   "source": [
    "Estatística - Teste de Hipóteses\n",
    "\n",
    "Considerando a base de dados experimento_test_ab.csv responda as\n",
    "questões abaixo:\n",
    "\n",
    "\n",
    "1. Qual dos cenários tem a maior taxa de conversão?\n",
    " \n"
   ]
  },
  {
   "cell_type": "code",
   "execution_count": 17,
   "id": "88edd2ab",
   "metadata": {},
   "outputs": [],
   "source": [
    "import pandas as pd\n",
    "from scipy import stats\n",
    "from statsmodels.stats.power import NormalIndPower\n",
    "from statsmodels.stats.proportion import proportion_effectsize"
   ]
  },
  {
   "cell_type": "code",
   "execution_count": 18,
   "id": "d5b34547",
   "metadata": {},
   "outputs": [
    {
     "data": {
      "text/html": [
       "<div>\n",
       "<style scoped>\n",
       "    .dataframe tbody tr th:only-of-type {\n",
       "        vertical-align: middle;\n",
       "    }\n",
       "\n",
       "    .dataframe tbody tr th {\n",
       "        vertical-align: top;\n",
       "    }\n",
       "\n",
       "    .dataframe thead th {\n",
       "        text-align: right;\n",
       "    }\n",
       "</style>\n",
       "<table border=\"1\" class=\"dataframe\">\n",
       "  <thead>\n",
       "    <tr style=\"text-align: right;\">\n",
       "      <th></th>\n",
       "      <th>Visitante_ID</th>\n",
       "      <th>Versão_Página</th>\n",
       "      <th>Visualizações</th>\n",
       "      <th>Conversões</th>\n",
       "    </tr>\n",
       "  </thead>\n",
       "  <tbody>\n",
       "    <tr>\n",
       "      <th>0</th>\n",
       "      <td>1</td>\n",
       "      <td>A</td>\n",
       "      <td>167</td>\n",
       "      <td>1</td>\n",
       "    </tr>\n",
       "    <tr>\n",
       "      <th>1</th>\n",
       "      <td>2</td>\n",
       "      <td>A</td>\n",
       "      <td>160</td>\n",
       "      <td>0</td>\n",
       "    </tr>\n",
       "    <tr>\n",
       "      <th>2</th>\n",
       "      <td>3</td>\n",
       "      <td>A</td>\n",
       "      <td>170</td>\n",
       "      <td>0</td>\n",
       "    </tr>\n",
       "    <tr>\n",
       "      <th>3</th>\n",
       "      <td>4</td>\n",
       "      <td>A</td>\n",
       "      <td>161</td>\n",
       "      <td>1</td>\n",
       "    </tr>\n",
       "    <tr>\n",
       "      <th>4</th>\n",
       "      <td>5</td>\n",
       "      <td>A</td>\n",
       "      <td>104</td>\n",
       "      <td>0</td>\n",
       "    </tr>\n",
       "  </tbody>\n",
       "</table>\n",
       "</div>"
      ],
      "text/plain": [
       "   Visitante_ID Versão_Página  Visualizações  Conversões\n",
       "0             1             A            167           1\n",
       "1             2             A            160           0\n",
       "2             3             A            170           0\n",
       "3             4             A            161           1\n",
       "4             5             A            104           0"
      ]
     },
     "execution_count": 18,
     "metadata": {},
     "output_type": "execute_result"
    }
   ],
   "source": [
    "experimento = \"experimento_teste_ab.csv\"\n",
    "\n",
    "df_experimento = pd.read_csv(experimento)\n",
    "\n",
    "df_experimento.head()"
   ]
  },
  {
   "cell_type": "code",
   "execution_count": 20,
   "id": "eea53af4",
   "metadata": {},
   "outputs": [
    {
     "name": "stdout",
     "output_type": "stream",
     "text": [
      "               sum  count  Taxa_Conversao\n",
      "Versão_Página                            \n",
      "A              105   1000           0.105\n",
      "B              125   1000           0.125\n"
     ]
    }
   ],
   "source": [
    "\n",
    "# Agrupando por versão da página e calculando taxa de conversão\n",
    "taxa_conversao = df_experimento.groupby(\"Versão_Página\")[\"Conversões\"].agg([\"sum\", \"count\"])\n",
    "taxa_conversao[\"Taxa_Conversao\"] = taxa_conversao[\"sum\"] / taxa_conversao[\"count\"]\n",
    "\n",
    "print(taxa_conversao)"
   ]
  },
  {
   "cell_type": "markdown",
   "id": "3ff7cdd3",
   "metadata": {},
   "source": [
    "2. Calcule qual o tamanho da amostra necessária para o desenvolvimento\n",
    "de um teste A/B, seguindo os seguintes critérios:\n",
    "a. O cenário A, da base, como o inicial, que funciona hoje.\n",
    "b. Considere 95% de confiança de que o efeito na conversão não foi\n",
    "aleatório com um nível de significância de 5% (alpha = 0,05).\n",
    "c. Também considere 80% de certeza conseguir capturar o efeito\n",
    "da nova abordagem.\n",
    "d. O aumento para 10% de conversão.\n",
    "\n"
   ]
  },
  {
   "cell_type": "code",
   "execution_count": 21,
   "id": "18528800",
   "metadata": {},
   "outputs": [
    {
     "name": "stdout",
     "output_type": "stream",
     "text": [
      "Tamanho mínimo da amostra por grupo: 57756\n"
     ]
    }
   ],
   "source": [
    "\n",
    "\n",
    "# 1. Taxa de conversão atual (grupo A)\n",
    "conversao_A = df_experimento[df_experimento[\"Versão_Página\"] == \"A\"][\"Conversões\"].sum()\n",
    "n_A = df_experimento[df_experimento[\"Versão_Página\"] == \"A\"].shape[0]\n",
    "p1 = conversao_A / n_A\n",
    "\n",
    "# 2. Conversão esperada para o novo grupo B\n",
    "p2 = 0.10  # 10%\n",
    "\n",
    "# 3. Tamanho do efeito (effect size de Cohen)\n",
    "effect_size = proportion_effectsize(p1, p2)\n",
    "\n",
    "# 4. Calculando o tamanho da amostra\n",
    "analysis = NormalIndPower()\n",
    "amostra_necessaria = analysis.solve_power(effect_size=effect_size, power=0.8, alpha=0.05, ratio=1)\n",
    "\n",
    "print(f\"Tamanho mínimo da amostra por grupo: {round(amostra_necessaria)}\")\n"
   ]
  },
  {
   "cell_type": "markdown",
   "id": "70004d1f",
   "metadata": {},
   "source": [
    "Verifique a base pacientes.csv, os dados são fictícios. A sintetiza uma base\n",
    "de dados de um hospital que trata de pacientes com problemas cardíacos.\n",
    "Considere a base como a população, portanto as estatísticas da população\n",
    "são conhecidas. Responda as perguntas abaixo:\n",
    "3. Considerando uma amostra de 45 números que representam o index do\n",
    "dataframe, índices= ([909, 751, 402, 400, 726, 39, 184, 269, 255, 769,\n",
    "209, 715, 677, 381, 793, 697, 89, 280, 232, 756, 358, 36, 439, 768, 967,\n",
    "699, 473, 222, 89, 639, 883, 558, 757, 84, 907, 895, 217, 224, 311, 348,\n",
    "146, 505, 273, 957, 362]). Considerando essa amostra é possível dizer\n",
    "que a idade média das pessoas com problemas cardíacos é maior que\n",
    "50 anos? Nível de significância igual a 5%.\n"
   ]
  },
  {
   "cell_type": "code",
   "execution_count": 22,
   "id": "cd3c4786",
   "metadata": {},
   "outputs": [
    {
     "data": {
      "text/html": [
       "<div>\n",
       "<style scoped>\n",
       "    .dataframe tbody tr th:only-of-type {\n",
       "        vertical-align: middle;\n",
       "    }\n",
       "\n",
       "    .dataframe tbody tr th {\n",
       "        vertical-align: top;\n",
       "    }\n",
       "\n",
       "    .dataframe thead th {\n",
       "        text-align: right;\n",
       "    }\n",
       "</style>\n",
       "<table border=\"1\" class=\"dataframe\">\n",
       "  <thead>\n",
       "    <tr style=\"text-align: right;\">\n",
       "      <th></th>\n",
       "      <th>Unnamed: 0</th>\n",
       "      <th>Pressao_Arterial</th>\n",
       "      <th>Idade</th>\n",
       "      <th>Genero</th>\n",
       "      <th>Etnia</th>\n",
       "      <th>Estado_Saude</th>\n",
       "      <th>Nome_Genero</th>\n",
       "      <th>Nome_Etnia</th>\n",
       "      <th>Nome_Estado_Saude</th>\n",
       "    </tr>\n",
       "  </thead>\n",
       "  <tbody>\n",
       "    <tr>\n",
       "      <th>0</th>\n",
       "      <td>0</td>\n",
       "      <td>142.755809</td>\n",
       "      <td>31</td>\n",
       "      <td>1</td>\n",
       "      <td>1</td>\n",
       "      <td>1</td>\n",
       "      <td>Feminino</td>\n",
       "      <td>Afro-americano</td>\n",
       "      <td>Com condições de saúde adicionais</td>\n",
       "    </tr>\n",
       "    <tr>\n",
       "      <th>1</th>\n",
       "      <td>1</td>\n",
       "      <td>161.878468</td>\n",
       "      <td>35</td>\n",
       "      <td>1</td>\n",
       "      <td>1</td>\n",
       "      <td>0</td>\n",
       "      <td>Feminino</td>\n",
       "      <td>Afro-americano</td>\n",
       "      <td>Saudável</td>\n",
       "    </tr>\n",
       "    <tr>\n",
       "      <th>2</th>\n",
       "      <td>2</td>\n",
       "      <td>161.508259</td>\n",
       "      <td>39</td>\n",
       "      <td>0</td>\n",
       "      <td>3</td>\n",
       "      <td>1</td>\n",
       "      <td>Masculino</td>\n",
       "      <td>Asiático</td>\n",
       "      <td>Com condições de saúde adicionais</td>\n",
       "    </tr>\n",
       "    <tr>\n",
       "      <th>3</th>\n",
       "      <td>3</td>\n",
       "      <td>144.979408</td>\n",
       "      <td>43</td>\n",
       "      <td>1</td>\n",
       "      <td>3</td>\n",
       "      <td>1</td>\n",
       "      <td>Feminino</td>\n",
       "      <td>Asiático</td>\n",
       "      <td>Com condições de saúde adicionais</td>\n",
       "    </tr>\n",
       "    <tr>\n",
       "      <th>4</th>\n",
       "      <td>4</td>\n",
       "      <td>162.502954</td>\n",
       "      <td>55</td>\n",
       "      <td>0</td>\n",
       "      <td>2</td>\n",
       "      <td>1</td>\n",
       "      <td>Masculino</td>\n",
       "      <td>Hispânico</td>\n",
       "      <td>Com condições de saúde adicionais</td>\n",
       "    </tr>\n",
       "    <tr>\n",
       "      <th>...</th>\n",
       "      <td>...</td>\n",
       "      <td>...</td>\n",
       "      <td>...</td>\n",
       "      <td>...</td>\n",
       "      <td>...</td>\n",
       "      <td>...</td>\n",
       "      <td>...</td>\n",
       "      <td>...</td>\n",
       "      <td>...</td>\n",
       "    </tr>\n",
       "    <tr>\n",
       "      <th>995</th>\n",
       "      <td>995</td>\n",
       "      <td>136.381404</td>\n",
       "      <td>58</td>\n",
       "      <td>1</td>\n",
       "      <td>0</td>\n",
       "      <td>1</td>\n",
       "      <td>Feminino</td>\n",
       "      <td>Caucasiano</td>\n",
       "      <td>Com condições de saúde adicionais</td>\n",
       "    </tr>\n",
       "    <tr>\n",
       "      <th>996</th>\n",
       "      <td>996</td>\n",
       "      <td>161.801012</td>\n",
       "      <td>41</td>\n",
       "      <td>0</td>\n",
       "      <td>3</td>\n",
       "      <td>1</td>\n",
       "      <td>Masculino</td>\n",
       "      <td>Asiático</td>\n",
       "      <td>Com condições de saúde adicionais</td>\n",
       "    </tr>\n",
       "    <tr>\n",
       "      <th>997</th>\n",
       "      <td>997</td>\n",
       "      <td>134.390624</td>\n",
       "      <td>70</td>\n",
       "      <td>0</td>\n",
       "      <td>0</td>\n",
       "      <td>0</td>\n",
       "      <td>Masculino</td>\n",
       "      <td>Caucasiano</td>\n",
       "      <td>Saudável</td>\n",
       "    </tr>\n",
       "    <tr>\n",
       "      <th>998</th>\n",
       "      <td>998</td>\n",
       "      <td>160.818609</td>\n",
       "      <td>33</td>\n",
       "      <td>1</td>\n",
       "      <td>0</td>\n",
       "      <td>0</td>\n",
       "      <td>Feminino</td>\n",
       "      <td>Caucasiano</td>\n",
       "      <td>Saudável</td>\n",
       "    </tr>\n",
       "    <tr>\n",
       "      <th>999</th>\n",
       "      <td>999</td>\n",
       "      <td>159.877549</td>\n",
       "      <td>49</td>\n",
       "      <td>0</td>\n",
       "      <td>1</td>\n",
       "      <td>0</td>\n",
       "      <td>Masculino</td>\n",
       "      <td>Afro-americano</td>\n",
       "      <td>Saudável</td>\n",
       "    </tr>\n",
       "  </tbody>\n",
       "</table>\n",
       "<p>1000 rows × 9 columns</p>\n",
       "</div>"
      ],
      "text/plain": [
       "     Unnamed: 0  Pressao_Arterial  Idade  Genero  Etnia  Estado_Saude  \\\n",
       "0             0        142.755809     31       1      1             1   \n",
       "1             1        161.878468     35       1      1             0   \n",
       "2             2        161.508259     39       0      3             1   \n",
       "3             3        144.979408     43       1      3             1   \n",
       "4             4        162.502954     55       0      2             1   \n",
       "..          ...               ...    ...     ...    ...           ...   \n",
       "995         995        136.381404     58       1      0             1   \n",
       "996         996        161.801012     41       0      3             1   \n",
       "997         997        134.390624     70       0      0             0   \n",
       "998         998        160.818609     33       1      0             0   \n",
       "999         999        159.877549     49       0      1             0   \n",
       "\n",
       "    Nome_Genero      Nome_Etnia                  Nome_Estado_Saude  \n",
       "0      Feminino  Afro-americano  Com condições de saúde adicionais  \n",
       "1      Feminino  Afro-americano                           Saudável  \n",
       "2     Masculino        Asiático  Com condições de saúde adicionais  \n",
       "3      Feminino        Asiático  Com condições de saúde adicionais  \n",
       "4     Masculino       Hispânico  Com condições de saúde adicionais  \n",
       "..          ...             ...                                ...  \n",
       "995    Feminino      Caucasiano  Com condições de saúde adicionais  \n",
       "996   Masculino        Asiático  Com condições de saúde adicionais  \n",
       "997   Masculino      Caucasiano                           Saudável  \n",
       "998    Feminino      Caucasiano                           Saudável  \n",
       "999   Masculino  Afro-americano                           Saudável  \n",
       "\n",
       "[1000 rows x 9 columns]"
      ]
     },
     "execution_count": 22,
     "metadata": {},
     "output_type": "execute_result"
    }
   ],
   "source": [
    "pacientes = \"pacientes.csv\"\n",
    "\n",
    "df_pacientes = pd.read_csv(pacientes)\n",
    "\n",
    "df_pacientes"
   ]
  },
  {
   "cell_type": "code",
   "execution_count": 41,
   "id": "87a42182",
   "metadata": {},
   "outputs": [
    {
     "name": "stdout",
     "output_type": "stream",
     "text": [
      "Média da amostra: 50.09\n",
      "T-statística: 0.0523\n",
      "P-valor (unilateral): 0.4793\n",
      " Não há evidência suficiente para afirmar que a média é maior que 50 anos.\n"
     ]
    }
   ],
   "source": [
    "\n",
    "# Índices da amostra\n",
    "indices = [909, 751, 402, 400, 726, 39, 184, 269, 255, 769,\n",
    "           209, 715, 677, 381, 793, 697, 89, 280, 232, 756,\n",
    "           358, 36, 439, 768, 967, 699, 473, 222, 89, 639,\n",
    "           883, 558, 757, 84, 907, 895, 217, 224, 311, 348,\n",
    "           146, 505, 273, 957, 362]\n",
    "\n",
    "# Criar a amostra\n",
    "amostra = df_pacientes.loc[indices]\n",
    "\n",
    "# Verificar a coluna de idade (supondo que o nome é 'idade')\n",
    "media_amostra = amostra[\"Idade\"].mean()\n",
    "desvio_amostral = amostra[\"Idade\"].std(ddof=1)\n",
    "n = len(amostra)\n",
    "\n",
    "# Teste t de uma amostra contra H0: mu <= 50\n",
    "t_stat, p_valor_bilateral = stats.ttest_1samp(amostra[\"Idade\"], popmean=50)\n",
    "\n",
    "# Como o teste é unilateral (maior que 50), ajusta o p-valor\n",
    "p_valor_unilateral = p_valor_bilateral / 2\n",
    "\n",
    "# Mostrar resultados\n",
    "print(f\"Média da amostra: {media_amostra:.2f}\")\n",
    "print(f\"T-statística: {t_stat:.4f}\")\n",
    "print(f\"P-valor (unilateral): {p_valor_unilateral:.4f}\")\n",
    "\n",
    "# Decisão\n",
    "if (t_stat > 0) and (p_valor_unilateral < 0.05):\n",
    "    print(\" Rejeitamos H0: A idade média é maior que 50 anos.\")\n",
    "else:\n",
    "    print(\" Não há evidência suficiente para afirmar que a média é maior que 50 anos.\")\n"
   ]
  },
  {
   "cell_type": "markdown",
   "id": "2034c8c6",
   "metadata": {},
   "source": [
    "4. Queremos entender que tipo de amostra estamos lidando se dividirmos\n",
    "os conjuntos em 2, sendo um com pessoas que têm condições de\n",
    "saúde adicionais e o outro com pessoas saudáveis. Seria dependente\n",
    "ou independente?\n"
   ]
  },
  {
   "cell_type": "code",
   "execution_count": 40,
   "id": "6b544620",
   "metadata": {},
   "outputs": [
    {
     "name": "stdout",
     "output_type": "stream",
     "text": [
      "Valores únicos na coluna 'Estado_Saude':\n",
      "[1 0]\n",
      "Os grupos são independentes: não há pacientes em comum.\n"
     ]
    }
   ],
   "source": [
    "\n",
    "# Verificar os valores únicos na coluna \"Estado_Saude\"\n",
    "print(\"Valores únicos na coluna 'Estado_Saude':\")\n",
    "print(df_pacientes[\"Estado_Saude\"].unique())\n",
    "\n",
    "# Criar os dois grupos\n",
    "grupo_com_condicao = df_pacientes[df_pacientes[\"Estado_Saude\"] == \"Com condições de saúde adicionais\"]\n",
    "grupo_saudavel = df_pacientes[df_pacientes[\"Estado_Saude\"] == \"Saudável\"]\n",
    "\n",
    "# Verificar se há interseção entre os dois grupos (pacientes repetidos)\n",
    "interseccao = grupo_com_condicao.index.intersection(grupo_saudavel.index)\n",
    "\n",
    "# Resultado\n",
    "if len(interseccao) == 0:\n",
    "    print(\"Os grupos são independentes: não há pacientes em comum.\")\n",
    "else:\n",
    "    print(\"Os grupos são dependentes: há pacientes em ambos os grupos.\")\n",
    "    print(\"Pacientes repetidos (índices):\", interseccao.tolist())\n"
   ]
  },
  {
   "cell_type": "markdown",
   "id": "a9a0ad2c",
   "metadata": {},
   "source": [
    "5. Agora considere o um conjunto de pessoas aleatória que representam\n",
    "o index do dataframe, índices = ([690, 894, 67, 201, 364, 19, 60, 319,\n",
    "588, 643, 855, 623, 530, 174, 105, 693, 6, 462, 973, 607, 811, 346, 354,\n",
    "966, 943, 372]), podemos dizer que a pressão arterial média para\n",
    "pacientes com condições de saúde adicionais é igual à pressão arterial\n",
    "média para pacientes sem condições adicionais de saúde? Considere o\n",
    "nível de significância a 6%."
   ]
  },
  {
   "cell_type": "code",
   "execution_count": 39,
   "id": "6691477b",
   "metadata": {},
   "outputs": [
    {
     "name": "stdout",
     "output_type": "stream",
     "text": [
      "Média pressão arterial (com condições de saúde adicionais): nan\n",
      "Média pressão arterial (saudáveis): nan\n",
      "T-statística: nan\n",
      "P-valor: nan\n",
      "Não rejeitamos H0: Não há evidências suficientes para afirmar que as médias são diferentes.\n"
     ]
    },
    {
     "name": "stderr",
     "output_type": "stream",
     "text": [
      "C:\\Users\\ACER\\AppData\\Local\\Packages\\PythonSoftwareFoundation.Python.3.11_qbz5n2kfra8p0\\LocalCache\\local-packages\\Python311\\site-packages\\scipy\\_lib\\deprecation.py:234: SmallSampleWarning: One or more sample arguments is too small; all returned values will be NaN. See documentation for sample size requirements.\n",
      "  return f(*args, **kwargs)\n"
     ]
    }
   ],
   "source": [
    "\n",
    "# Índices da amostra fornecida\n",
    "indices = [690, 894, 67, 201, 364, 19, 60, 319, 588, 643, 855, 623, 530, 174, 105, \n",
    "           693, 6, 462, 973, 607, 811, 346, 354, 966, 943, 372]\n",
    "\n",
    "# Criar a amostra usando os índices\n",
    "amostra = df_pacientes.loc[indices]\n",
    "\n",
    "# Dividir a amostra em dois grupos: com e sem condições de saúde adicionais\n",
    "grupo_com_condicao = amostra[amostra[\"Estado_Saude\"] == \"Com condições de saúde adicionais\"]\n",
    "grupo_saudavel = amostra[amostra[\"Estado_Saude\"] == \"Saudável\"]\n",
    "\n",
    "# Verificar as médias das pressões arteriais\n",
    "media_com_condicao = grupo_com_condicao[\"Pressao_Arterial\"].mean()\n",
    "media_saudavel = grupo_saudavel[\"Pressao_Arterial\"].mean()\n",
    "\n",
    "print(f\"Média pressão arterial (com condições de saúde adicionais): {media_com_condicao:.2f}\")\n",
    "print(f\"Média pressão arterial (saudáveis): {media_saudavel:.2f}\")\n",
    "\n",
    "# Realizar o teste t para duas amostras independentes\n",
    "t_stat, p_valor = stats.ttest_ind(grupo_com_condicao[\"Pressao_Arterial\"], grupo_saudavel[\"Pressao_Arterial\"])\n",
    "\n",
    "# Resultado do teste (teste bilateral, então p-valor é o mesmo para comparar as médias)\n",
    "print(f\"T-statística: {t_stat:.4f}\")\n",
    "print(f\"P-valor: {p_valor:.4f}\")\n",
    "\n",
    "# Decisão (nível de significância 6% = 0,06)\n",
    "if p_valor < 0.06:\n",
    "    print(\"Rejeitamos H0: As médias das pressões arteriais são diferentes.\")\n",
    "else:\n",
    "    print(\"Não rejeitamos H0: Não há evidências suficientes para afirmar que as médias são diferentes.\")\n"
   ]
  },
  {
   "cell_type": "markdown",
   "id": "83a85482",
   "metadata": {},
   "source": [
    "6. Existe uma diferença significativa na pressão arterial média entre\n",
    "diferentes grupos étnicos nesta população? (Teste ANOVA, alpha é 5%)\n",
    "a. Hipótese Nula (H0): A pressão arterial média é a mesma em todos\n",
    "os grupos étnicos.\n",
    "b. Hipótese Alternativa (H1): Há uma diferença significativa na\n",
    "pressão arterial média entre pelo menos dois grupos étnicos\n",
    "nesta população.\n",
    "\n"
   ]
  },
  {
   "cell_type": "code",
   "execution_count": 38,
   "id": "b340f243",
   "metadata": {},
   "outputs": [
    {
     "name": "stdout",
     "output_type": "stream",
     "text": [
      "F-statística: 0.2325\n",
      "P-valor: 0.8738\n",
      "Não rejeitamos H0: Não há evidências suficientes para afirmar que as médias das pressões arteriais são diferentes entre os grupos étnicos.\n"
     ]
    }
   ],
   "source": [
    "\n",
    "# Agrupar os dados por etnia\n",
    "grupos_etnicos = df_pacientes.groupby(\"Nome_Etnia\")[\"Pressao_Arterial\"].apply(list)\n",
    "\n",
    "# Realizar o teste ANOVA\n",
    "f_stat, p_valor = stats.f_oneway(*grupos_etnicos)\n",
    "\n",
    "# Resultado do teste\n",
    "print(f\"F-statística: {f_stat:.4f}\")\n",
    "print(f\"P-valor: {p_valor:.4f}\")\n",
    "\n",
    "# Decisão com base no p-valor\n",
    "if p_valor < 0.05:\n",
    "    print(\"Rejeitamos H0: Existe uma diferença significativa na pressão arterial média entre os grupos étnicos.\")\n",
    "else:\n",
    "    print(\"Não rejeitamos H0: Não há evidências suficientes para afirmar que as médias das pressões arteriais são diferentes entre os grupos étnicos.\")\n"
   ]
  },
  {
   "cell_type": "markdown",
   "id": "f932b247",
   "metadata": {},
   "source": [
    "7. Lúcia é uma pesquisadora e tem o objetivo de entender a relação de\n",
    "gênero neste grupo de pacientes. Acredita-se que há uma relação\n",
    "entre o sexo e condições de saúde adicionais. (Teste qui-quadrado)\n"
   ]
  },
  {
   "cell_type": "code",
   "execution_count": 37,
   "id": "cb30cc40",
   "metadata": {},
   "outputs": [
    {
     "name": "stdout",
     "output_type": "stream",
     "text": [
      "Estatística Qui-quadrado: 0.0000\n",
      "P-valor: 1.0000\n",
      "Graus de liberdade: 1\n",
      "Valores esperados: \n",
      "[[256.53 246.47]\n",
      " [253.47 243.53]]\n",
      "Não rejeitamos H0: Não há evidências suficientes para afirmar que o gênero e as condições de saúde adicionais estão relacionados.\n"
     ]
    }
   ],
   "source": [
    "\n",
    "# Criar a tabela de contingência entre Gênero e Estado de Saúde\n",
    "tabela_contingencia = pd.crosstab(df_pacientes[\"Nome_Genero\"], df_pacientes[\"Nome_Estado_Saude\"])\n",
    "\n",
    "# Realizar o teste Qui-quadrado\n",
    "chi2_stat, p_valor, dof, expected = stats.chi2_contingency(tabela_contingencia)\n",
    "\n",
    "# Resultado do teste\n",
    "print(f\"Estatística Qui-quadrado: {chi2_stat:.4f}\")\n",
    "print(f\"P-valor: {p_valor:.4f}\")\n",
    "print(f\"Graus de liberdade: {dof}\")\n",
    "print(f\"Valores esperados: \\n{expected}\")\n",
    "\n",
    "# Decisão com base no p-valor\n",
    "if p_valor < 0.05:\n",
    "    print(\"Rejeitamos H0: Existe uma relação significativa entre o gênero e as condições de saúde adicionais.\")\n",
    "else:\n",
    "    print(\"Não rejeitamos H0: Não há evidências suficientes para afirmar que o gênero e as condições de saúde adicionais estão relacionados.\")\n"
   ]
  },
  {
   "cell_type": "markdown",
   "id": "641e7600",
   "metadata": {},
   "source": [
    "8. Existe uma associação entre a idade dos pacientes e sua pressão\n",
    "arterial?\n",
    "a. Hipótese Nula (H0): se a pressão arterial é independente da idade\n",
    "b. Hipótese Alternativa (H1): a pressão arterial esta associada a\n",
    "idade\n",
    "\n"
   ]
  },
  {
   "cell_type": "code",
   "execution_count": 42,
   "id": "633ffde0",
   "metadata": {},
   "outputs": [
    {
     "name": "stdout",
     "output_type": "stream",
     "text": [
      "Coeficiente de Correlação de Pearson: -0.0214\n",
      "P-valor: 0.4994\n",
      "Não rejeitamos H0: Não há evidências suficientes para afirmar que a pressão arterial está associada à idade.\n"
     ]
    }
   ],
   "source": [
    "\n",
    "# Realizar o teste de correlação de Pearson entre Idade e Pressão Arterial\n",
    "correlacao, p_valor = stats.pearsonr(df_pacientes[\"Idade\"], df_pacientes[\"Pressao_Arterial\"])\n",
    "\n",
    "# Resultado do teste\n",
    "print(f\"Coeficiente de Correlação de Pearson: {correlacao:.4f}\")\n",
    "print(f\"P-valor: {p_valor:.4f}\")\n",
    "\n",
    "# Decisão com base no p-valor\n",
    "if p_valor < 0.05:\n",
    "    print(\"Rejeitamos H0: Existe uma associação significativa entre a idade e a pressão arterial.\")\n",
    "else:\n",
    "    print(\"Não rejeitamos H0: Não há evidências suficientes para afirmar que a pressão arterial está associada à idade.\")\n"
   ]
  },
  {
   "cell_type": "markdown",
   "id": "15cd34ac",
   "metadata": {},
   "source": [
    "9. Qual é o intervalo de confiança para a média da pressão arterial entre\n",
    "os pacientes com condições de saúde adicionais? (nível de confiança\n",
    "95%)\n"
   ]
  },
  {
   "cell_type": "code",
   "execution_count": 43,
   "id": "426e78f3",
   "metadata": {},
   "outputs": [
    {
     "name": "stdout",
     "output_type": "stream",
     "text": [
      "Intervalo de confiança de 95% para a média da pressão arterial: (149.22, 151.02)\n"
     ]
    }
   ],
   "source": [
    "\n",
    "# Filtrar os pacientes com condições de saúde adicionais\n",
    "pacientes_condicoes_adicionais = df_pacientes[df_pacientes[\"Nome_Estado_Saude\"] == \"Com condições de saúde adicionais\"]\n",
    "\n",
    "# Calcular a média e o desvio padrão da pressão arterial para este grupo\n",
    "media_pressao = pacientes_condicoes_adicionais[\"Pressao_Arterial\"].mean()\n",
    "desvio_padrao = pacientes_condicoes_adicionais[\"Pressao_Arterial\"].std()\n",
    "n = len(pacientes_condicoes_adicionais)\n",
    "\n",
    "# Definir o nível de confiança de 95%\n",
    "nivel_confianca = 0.95\n",
    "alpha = 1 - nivel_confianca\n",
    "\n",
    "# Calcular o t-valor para o nível de confiança de 95%\n",
    "t_valor = stats.t.ppf(1 - alpha/2, df=n-1)\n",
    "\n",
    "# Calcular o erro padrão\n",
    "erro_padrao = desvio_padrao / (n**0.5)\n",
    "\n",
    "# Calcular o intervalo de confiança\n",
    "intervalo_inf = media_pressao - t_valor * erro_padrao\n",
    "intervalo_sup = media_pressao + t_valor * erro_padrao\n",
    "\n",
    "# Exibir o intervalo de confiança\n",
    "print(f\"Intervalo de confiança de 95% para a média da pressão arterial: ({intervalo_inf:.2f}, {intervalo_sup:.2f})\")\n"
   ]
  },
  {
   "cell_type": "markdown",
   "id": "2fb54d67",
   "metadata": {},
   "source": [
    "10. A distribuição da pressão arterial na população segue uma distribuição\n",
    "normal?\n",
    "a. Hipótese Nula (H0): A distribuição da pressão arterial na\n",
    "população segue uma distribuição normal.\n",
    "b. Hipótese Alternativa (H1): A distribuição da pressão arterial na\n",
    "população não segue uma distribuição normal."
   ]
  },
  {
   "cell_type": "code",
   "execution_count": 44,
   "id": "f8e6b398",
   "metadata": {},
   "outputs": [
    {
     "name": "stdout",
     "output_type": "stream",
     "text": [
      "Estatística do teste: 0.9970\n",
      "P-valor: 0.0607\n",
      "Não rejeitamos H0: A distribuição da pressão arterial segue uma distribuição normal.\n"
     ]
    }
   ],
   "source": [
    "\n",
    "# Realizar o teste de normalidade de Shapiro-Wilk na pressão arterial\n",
    "estatistica, p_valor = stats.shapiro(df_pacientes[\"Pressao_Arterial\"])\n",
    "\n",
    "# Exibir o resultado do teste\n",
    "print(f\"Estatística do teste: {estatistica:.4f}\")\n",
    "print(f\"P-valor: {p_valor:.4f}\")\n",
    "\n",
    "# Decisão com base no p-valor\n",
    "if p_valor < 0.05:\n",
    "    print(\"Rejeitamos H0: A distribuição da pressão arterial não segue uma distribuição normal.\")\n",
    "else:\n",
    "    print(\"Não rejeitamos H0: A distribuição da pressão arterial segue uma distribuição normal.\")"
   ]
  }
 ],
 "metadata": {
  "kernelspec": {
   "display_name": "Python 3",
   "language": "python",
   "name": "python3"
  },
  "language_info": {
   "codemirror_mode": {
    "name": "ipython",
    "version": 3
   },
   "file_extension": ".py",
   "mimetype": "text/x-python",
   "name": "python",
   "nbconvert_exporter": "python",
   "pygments_lexer": "ipython3",
   "version": "3.11.9"
  }
 },
 "nbformat": 4,
 "nbformat_minor": 5
}
