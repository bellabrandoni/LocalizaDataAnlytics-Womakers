{
 "cells": [
  {
   "cell_type": "markdown",
   "metadata": {},
   "source": [
    "## Probabilidade e Amostragem - Desafio Final"
   ]
  },
  {
   "cell_type": "markdown",
   "metadata": {},
   "source": [
    "Você é uma pesquisadora desenvolvendo uma análise sobre as características\n",
    "da força de trabalho nos estados brasileiros. Responda as perguntas abaixo:\n"
   ]
  },
  {
   "cell_type": "code",
   "execution_count": 68,
   "metadata": {},
   "outputs": [],
   "source": [
    "import pandas as pd\n",
    "import numpy as np\n",
    "import seaborn as sns\n",
    "import matplotlib.pyplot as plt\n",
    "from scipy.stats import norm\n",
    "from scipy.stats import binom\n",
    "import scipy.stats as stats\n"
   ]
  },
  {
   "cell_type": "code",
   "execution_count": 33,
   "metadata": {},
   "outputs": [
    {
     "data": {
      "text/html": [
       "<div>\n",
       "<style scoped>\n",
       "    .dataframe tbody tr th:only-of-type {\n",
       "        vertical-align: middle;\n",
       "    }\n",
       "\n",
       "    .dataframe tbody tr th {\n",
       "        vertical-align: top;\n",
       "    }\n",
       "\n",
       "    .dataframe thead th {\n",
       "        text-align: right;\n",
       "    }\n",
       "</style>\n",
       "<table border=\"1\" class=\"dataframe\">\n",
       "  <thead>\n",
       "    <tr style=\"text-align: right;\">\n",
       "      <th></th>\n",
       "      <th>Unnamed: 0</th>\n",
       "      <th>estado</th>\n",
       "      <th>idade</th>\n",
       "      <th>escolaridade</th>\n",
       "      <th>nível de proficiência em inglês</th>\n",
       "      <th>renda</th>\n",
       "      <th>sexo</th>\n",
       "    </tr>\n",
       "  </thead>\n",
       "  <tbody>\n",
       "    <tr>\n",
       "      <th>0</th>\n",
       "      <td>0</td>\n",
       "      <td>MA</td>\n",
       "      <td>56</td>\n",
       "      <td>Fundamental</td>\n",
       "      <td>Intermediário</td>\n",
       "      <td>4006.29</td>\n",
       "      <td>F</td>\n",
       "    </tr>\n",
       "    <tr>\n",
       "      <th>1</th>\n",
       "      <td>1</td>\n",
       "      <td>BA</td>\n",
       "      <td>46</td>\n",
       "      <td>Superior</td>\n",
       "      <td>Básico</td>\n",
       "      <td>2423.11</td>\n",
       "      <td>M</td>\n",
       "    </tr>\n",
       "    <tr>\n",
       "      <th>2</th>\n",
       "      <td>2</td>\n",
       "      <td>AM</td>\n",
       "      <td>32</td>\n",
       "      <td>Fundamental</td>\n",
       "      <td>Intermediário</td>\n",
       "      <td>3835.69</td>\n",
       "      <td>M</td>\n",
       "    </tr>\n",
       "    <tr>\n",
       "      <th>3</th>\n",
       "      <td>3</td>\n",
       "      <td>CE</td>\n",
       "      <td>60</td>\n",
       "      <td>Superior</td>\n",
       "      <td>Básico</td>\n",
       "      <td>1870.29</td>\n",
       "      <td>M</td>\n",
       "    </tr>\n",
       "    <tr>\n",
       "      <th>4</th>\n",
       "      <td>4</td>\n",
       "      <td>SE</td>\n",
       "      <td>25</td>\n",
       "      <td>Fundamental</td>\n",
       "      <td>Avançado</td>\n",
       "      <td>3529.80</td>\n",
       "      <td>M</td>\n",
       "    </tr>\n",
       "  </tbody>\n",
       "</table>\n",
       "</div>"
      ],
      "text/plain": [
       "   Unnamed: 0 estado  idade escolaridade nível de proficiência em inglês  \\\n",
       "0           0     MA     56  Fundamental                   Intermediário   \n",
       "1           1     BA     46     Superior                          Básico   \n",
       "2           2     AM     32  Fundamental                   Intermediário   \n",
       "3           3     CE     60     Superior                          Básico   \n",
       "4           4     SE     25  Fundamental                        Avançado   \n",
       "\n",
       "     renda sexo  \n",
       "0  4006.29    F  \n",
       "1  2423.11    M  \n",
       "2  3835.69    M  \n",
       "3  1870.29    M  \n",
       "4  3529.80    M  "
      ]
     },
     "execution_count": 33,
     "metadata": {},
     "output_type": "execute_result"
    }
   ],
   "source": [
    "DADOS = \"populacao_brasileira.csv\"\n",
    "\n",
    "df = pd.read_csv(DADOS)\n",
    "df.head()"
   ]
  },
  {
   "cell_type": "markdown",
   "metadata": {},
   "source": [
    "1. Considere pessoas fluentes em inglês, qual a probabilidade\n",
    "complementar? Ou seja, qual a probabilidade de escolhermos uma pessoa\n",
    "aleatória e ela não ser fluente em inglês. Considere fluente quem tem o nível avançado."
   ]
  },
  {
   "cell_type": "code",
   "execution_count": null,
   "metadata": {},
   "outputs": [
    {
     "name": "stdout",
     "output_type": "stream",
     "text": [
      "['Intermediário' 'Básico' 'Avançado']\n",
      "nível de proficiência em inglês\n",
      "Avançado         344\n",
      "Intermediário    329\n",
      "Básico           327\n",
      "Name: count, dtype: int64\n"
     ]
    }
   ],
   "source": [
    "df[df[\"nível de proficiência em inglês\"]== \"Avançado\"]\n",
    "\n",
    "# Lista valores únicos\n",
    "print(df['nível de proficiência em inglês'].unique())  \n",
    "\n",
    "# Conta a frequência de cada valor\n",
    "print(df['nível de proficiência em inglês'].value_counts())"
   ]
  },
  {
   "cell_type": "code",
   "execution_count": 35,
   "metadata": {},
   "outputs": [
    {
     "name": "stdout",
     "output_type": "stream",
     "text": [
      "Probabilidade de ser fluente: 0.34\n",
      "Probabilidade de NÃO ser fluente (complementar): 0.66\n"
     ]
    }
   ],
   "source": [
    "# Contando o total de pessoas\n",
    "total = df.shape[0]\n",
    "total\n",
    "#calculando pessoas fluentes\n",
    "pessoas_fluentes_count = df[df[\"nível de proficiência em inglês\"]== \"Avançado\"].shape[0]\n",
    "\n",
    "\n",
    "#probabilidade\n",
    "p_fluente = pessoas_fluentes_count / total\n",
    "pessoa_nao_fluente = 1 - p_fluente\n",
    "\n",
    "print(f\"Probabilidade de ser fluente: {p_fluente:.2f}\")\n",
    "print(f\"Probabilidade de NÃO ser fluente (complementar): {pessoa_nao_fluente:.2f}\")\n"
   ]
  },
  {
   "cell_type": "markdown",
   "metadata": {},
   "source": [
    "2. Se uma pessoa escolhida aleatoriamente for de Alagoas ou do Pará, qual\n",
    "é a probabilidade de ela ter uma renda superior a 5 mil reais?"
   ]
  },
  {
   "cell_type": "code",
   "execution_count": 36,
   "metadata": {},
   "outputs": [
    {
     "data": {
      "text/html": [
       "<div>\n",
       "<style scoped>\n",
       "    .dataframe tbody tr th:only-of-type {\n",
       "        vertical-align: middle;\n",
       "    }\n",
       "\n",
       "    .dataframe tbody tr th {\n",
       "        vertical-align: top;\n",
       "    }\n",
       "\n",
       "    .dataframe thead th {\n",
       "        text-align: right;\n",
       "    }\n",
       "</style>\n",
       "<table border=\"1\" class=\"dataframe\">\n",
       "  <thead>\n",
       "    <tr style=\"text-align: right;\">\n",
       "      <th></th>\n",
       "      <th>Unnamed: 0</th>\n",
       "      <th>estado</th>\n",
       "      <th>idade</th>\n",
       "      <th>escolaridade</th>\n",
       "      <th>nível de proficiência em inglês</th>\n",
       "      <th>renda</th>\n",
       "      <th>sexo</th>\n",
       "    </tr>\n",
       "  </thead>\n",
       "  <tbody>\n",
       "    <tr>\n",
       "      <th>0</th>\n",
       "      <td>0</td>\n",
       "      <td>MA</td>\n",
       "      <td>56</td>\n",
       "      <td>Fundamental</td>\n",
       "      <td>Intermediário</td>\n",
       "      <td>4006.29</td>\n",
       "      <td>F</td>\n",
       "    </tr>\n",
       "    <tr>\n",
       "      <th>1</th>\n",
       "      <td>1</td>\n",
       "      <td>BA</td>\n",
       "      <td>46</td>\n",
       "      <td>Superior</td>\n",
       "      <td>Básico</td>\n",
       "      <td>2423.11</td>\n",
       "      <td>M</td>\n",
       "    </tr>\n",
       "    <tr>\n",
       "      <th>2</th>\n",
       "      <td>2</td>\n",
       "      <td>AM</td>\n",
       "      <td>32</td>\n",
       "      <td>Fundamental</td>\n",
       "      <td>Intermediário</td>\n",
       "      <td>3835.69</td>\n",
       "      <td>M</td>\n",
       "    </tr>\n",
       "    <tr>\n",
       "      <th>3</th>\n",
       "      <td>3</td>\n",
       "      <td>CE</td>\n",
       "      <td>60</td>\n",
       "      <td>Superior</td>\n",
       "      <td>Básico</td>\n",
       "      <td>1870.29</td>\n",
       "      <td>M</td>\n",
       "    </tr>\n",
       "    <tr>\n",
       "      <th>4</th>\n",
       "      <td>4</td>\n",
       "      <td>SE</td>\n",
       "      <td>25</td>\n",
       "      <td>Fundamental</td>\n",
       "      <td>Avançado</td>\n",
       "      <td>3529.80</td>\n",
       "      <td>M</td>\n",
       "    </tr>\n",
       "  </tbody>\n",
       "</table>\n",
       "</div>"
      ],
      "text/plain": [
       "   Unnamed: 0 estado  idade escolaridade nível de proficiência em inglês  \\\n",
       "0           0     MA     56  Fundamental                   Intermediário   \n",
       "1           1     BA     46     Superior                          Básico   \n",
       "2           2     AM     32  Fundamental                   Intermediário   \n",
       "3           3     CE     60     Superior                          Básico   \n",
       "4           4     SE     25  Fundamental                        Avançado   \n",
       "\n",
       "     renda sexo  \n",
       "0  4006.29    F  \n",
       "1  2423.11    M  \n",
       "2  3835.69    M  \n",
       "3  1870.29    M  \n",
       "4  3529.80    M  "
      ]
     },
     "execution_count": 36,
     "metadata": {},
     "output_type": "execute_result"
    }
   ],
   "source": [
    "df.head()"
   ]
  },
  {
   "cell_type": "code",
   "execution_count": null,
   "metadata": {},
   "outputs": [
    {
     "name": "stdout",
     "output_type": "stream",
     "text": [
      "A probabilidade de uma pessoa de AL ou PA ter renda superior a 5 mil reais é: 5.06%\n"
     ]
    }
   ],
   "source": [
    "# Filtrando pessoas de Alagoas (AL) ou Pará (PA)\n",
    "\n",
    "df_al_pa = df[df[\"estado\"] .isin([\"AL\", \"PA\"])]\n",
    "#df_al_pa\n",
    "\n",
    "#contagem de total de pessosas desses estados\n",
    "total_al_pa = len(df_al_pa)\n",
    "#total_al_pa\n",
    "\n",
    "# Filtrar pessoas desses estados com renda superior a 5000\n",
    "df_al_pa_renda_maior_5k = df_al_pa[df_al_pa[\"renda\"] > 5000]\n",
    "\n",
    "# Contar pessoas com renda superior a 5000\n",
    "total_renda_maior_5k = len(df_al_pa_renda_maior_5k)\n",
    "\n",
    "# Calcular a probabilidade condicional P(B|A)\n",
    "if total_al_pa > 0:\n",
    "    probabilidade = total_renda_maior_5k / total_al_pa\n",
    "else:\n",
    "    probabilidade = 0  # Se não há pessoas desses estados, a probabilidade é 0\n",
    "\n",
    "print(f\"A probabilidade de uma pessoa de AL ou PA ter renda superior a 5 mil reais é: {probabilidade:.2%}\")"
   ]
  },
  {
   "cell_type": "markdown",
   "metadata": {},
   "source": [
    "3. Descubra a probabilidade de uma pessoa, residente no estado do\n",
    "Amazonas, ter ensino superior completo (considerando apenas a\n",
    "escolaridade classificada como 'Superior'). Qual a probabilidade da quinta\n",
    "pessoa amazonense que você conversar ter ensino superior completo?"
   ]
  },
  {
   "cell_type": "code",
   "execution_count": 47,
   "metadata": {},
   "outputs": [
    {
     "name": "stdout",
     "output_type": "stream",
     "text": [
      "A probabilidade de uma pessoa do Amazonas ter ensino superior completo é: 23.68%\n",
      "A probabilidade da quinta pessoa amazonense que você conversar ter ensino superior completo é: 0.07%\n"
     ]
    }
   ],
   "source": [
    "#filtrando por região\n",
    "\n",
    "df_AM = df[df[\"estado\"] == \"AM\"]\n",
    "\n",
    "#total de pessoas do amazonas\n",
    "total_am =  len(df_AM)\n",
    "\n",
    "#filtrando pessoas do AM com ensino superiror completo\n",
    "\n",
    "df_AM_ensino = df_AM[df_AM[\"escolaridade\"] == \"Superior\"]\n",
    "\n",
    "#total pessoas do AM com ensino superiror completo\n",
    "\n",
    "total_AM_ensino =  len(df_AM_ensino)\n",
    "\n",
    "# Calcular a probabilidade P(Superior | AM)\n",
    "if total_am > 0:\n",
    "    probabilidade_superior_AM = total_AM_ensino / total_am\n",
    "else:\n",
    "    probabilidade_superior_AM = 0  # Caso não haja registros do AM, a probabilidade é 0\n",
    "\n",
    "print(f\"A probabilidade de uma pessoa do Amazonas ter ensino superior completo é: {probabilidade_superior_AM:.2%}\")\n",
    "\n",
    "# Probabilidade de a quinta pessoa amazonense ter ensino superior (distribuição de Bernoulli)\n",
    "probabilidade_quinta_pessoa = probabilidade_superior_AM ** 5\n",
    "\n",
    "print(f\"A probabilidade da quinta pessoa amazonense que você conversar ter ensino superior completo é: {probabilidade_quinta_pessoa:.2%}\")\n",
    "\n",
    "\n"
   ]
  },
  {
   "cell_type": "markdown",
   "metadata": {},
   "source": [
    "4. Considerando a renda das pessoas do nosso conjunto, podemos dizer\n",
    "que a renda de uma pessoa brasileira está na sua maioria em que faixa\n",
    "(faça faixa de 1.500 reais)? Qual é a sua função densidade de probabilidade?"
   ]
  },
  {
   "cell_type": "code",
   "execution_count": 52,
   "metadata": {},
   "outputs": [
    {
     "name": "stdout",
     "output_type": "stream",
     "text": [
      "                  Frequência  Densidade\n",
      "faixa_renda                            \n",
      "(0.0, 1500.0]             55      0.055\n",
      "(1500.0, 3000.0]         414      0.414\n",
      "(3000.0, 4500.0]         442      0.442\n",
      "(4500.0, 6000.0]          89      0.089\n"
     ]
    }
   ],
   "source": [
    "# A variável divide os valores de renda em faixas de R$1.500,00 e cria umae cria uma nova coluna no DataFrame mostrando em qual faixa cada pessoa se encaixa.\n",
    "intervalos_de_renda = np.arange(0, df[\"renda\"].max() + 1500, 1500)\n",
    "\n",
    "df[\"faixa_renda\"] = pd.cut(df[\"renda\"], intervalos_de_renda)\n",
    "\n",
    "# Contando quantas pessoas estão em cada faixa de renda\n",
    "frequencia = df[\"faixa_renda\"].value_counts().sort_index()\n",
    "\n",
    "# Calculando a densidade de probabilidade\n",
    "densidade = frequencia / frequencia.sum()\n",
    "\n",
    "# Exibir tabela de faixas de renda e densidade\n",
    "tabela_densidade = pd.DataFrame({\"Frequência\": frequencia, \"Densidade\": densidade})\n",
    "print(tabela_densidade)"
   ]
  },
  {
   "cell_type": "code",
   "execution_count": 53,
   "metadata": {},
   "outputs": [
    {
     "data": {
      "image/png": "[encoded data removed]",
      "text/plain": [
       "<Figure size 640x480 with 1 Axes>"
      ]
     },
     "metadata": {},
     "output_type": "display_data"
    }
   ],
   "source": [
    "# Criar gráfico de densidade\n",
    "sns.histplot(df[\"renda\"], bins= intervalos_de_renda, kde=True, stat=\"density\", color=\"blue\", alpha=0.6)\n",
    "plt.xlabel(\"Renda (R$)\")\n",
    "plt.ylabel(\"Densidade de Probabilidade\")\n",
    "plt.title(\"Função Densidade de Probabilidade da Renda\")\n",
    "plt.show()"
   ]
  },
  {
   "cell_type": "markdown",
   "metadata": {},
   "source": [
    "5. Calcule a média e a variância da renda da amostra. Depois faça a\n",
    "distribuição normal, inclua o gráfico."
   ]
  },
  {
   "cell_type": "code",
   "execution_count": null,
   "metadata": {},
   "outputs": [
    {
     "name": "stdout",
     "output_type": "stream",
     "text": [
      "Média da renda: R$3082.54\n",
      "Variância da renda: R$993156.23\n"
     ]
    }
   ],
   "source": [
    "#df.describe()\n",
    "\n",
    "media = df[\"renda\"].mean()\n",
    "variancia = df[\"renda\"].var()\n",
    "desvio_padrao = df[\"renda\"].std()\n",
    "\n",
    "\n",
    "print(f\"Média da renda: R${media:.2f}\")\n",
    "print(f\"Variância da renda: R${variancia:.2f}\")\n",
    "\n",
    "# Criando valores para a distribuição normal\n",
    "x = np.linspace(min(df[\"renda\"]), max(df[\"renda\"]), 100)\n",
    "\n",
    "# Calculando a função densidade de probabilidade\n",
    "y = norm.pdf(x, media, desvio_padrao)  \n",
    "\n",
    "\n",
    "\n",
    "\n"
   ]
  },
  {
   "cell_type": "code",
   "execution_count": 63,
   "metadata": {},
   "outputs": [
    {
     "data": {
      "image/png": "[encoded data removed]",
      "text/plain": [
       "<Figure size 640x480 with 1 Axes>"
      ]
     },
     "metadata": {},
     "output_type": "display_data"
    }
   ],
   "source": [
    "# Plotando o gráfico da distribuição normal\n",
    "sns.histplot(df[\"renda\"], kde=True, bins=5, stat=\"density\", color=\"blue\", alpha=0.5)\n",
    "plt.plot(x, y, color=\"red\", label=\"Distribuição Normal\")\n",
    "plt.xlabel(\"Renda (R$)\")\n",
    "plt.ylabel(\"Densidade de Probabilidade\")\n",
    "plt.title(\"Distribuição Normal da Renda\")\n",
    "plt.legend()\n",
    "plt.show()"
   ]
  },
  {
   "cell_type": "markdown",
   "metadata": {},
   "source": [
    "6. Primeiro considere a probabilidade encontrada no nosso conjunto de\n",
    "pessoas com escolaridade de pós-graduação. Considerando a amostra de\n",
    "população brasileira com 1 milhão de habitantes, qual a probabilidade de encontrarmos 243 mil pessoas com pós-graduação?"
   ]
  },
  {
   "cell_type": "code",
   "execution_count": 65,
   "metadata": {},
   "outputs": [
    {
     "name": "stdout",
     "output_type": "stream",
     "text": [
      "Probabilidade de ter pós-graduação na amostra: 0.2530\n"
     ]
    }
   ],
   "source": [
    "# Contar total de pessoas\n",
    "total_pessoas = len(df)\n",
    "\n",
    "# Contar pessoas com pós-graduação\n",
    "total_pos = len(df[df[\"escolaridade\"] == \"Pós-graduação\"])\n",
    "\n",
    "# Calcular a probabilidade da amostra\n",
    "prob_pos = total_pos / total_pessoas\n",
    "print(f\"Probabilidade de ter pós-graduação na amostra: {prob_pos:.4f}\")\n"
   ]
  },
  {
   "cell_type": "code",
   "execution_count": null,
   "metadata": {},
   "outputs": [],
   "source": [
    "# Definindo população\n",
    "n = 1_000_000  # Total de pessoas\n",
    "k = 243_000    # Pessoas esperadas com pós\n",
    "\n",
    "# Calcular a probabilidade com a distribuição binomial\n",
    "prob_k = binom.pmf(k, n, prob_pos)\n",
    "\n",
    "print(f\"Probabilidade de encontrar 243 mil pessoas com pós-graduação: {prob_k:.10f}\")\n"
   ]
  },
  {
   "cell_type": "markdown",
   "metadata": {},
   "source": [
    "7. Somando as densidades nós temos a função de densida de acumulada.\n",
    "Considerando a coluna ‘Escolaridade’ faça a função de densidade\n",
    "acumulada discreta para cada nível de escolaridade."
   ]
  },
  {
   "cell_type": "code",
   "execution_count": 66,
   "metadata": {},
   "outputs": [],
   "source": [
    "#Contando quantas pessoas há em cada nível de escolaridade\n",
    "contagem_escolaridade = df[\"escolaridade\"].value_counts().sort_index()\n",
    "\n",
    "\n",
    "#Calculando a proporção relativa\n",
    "proporcao = contagem_escolaridade / contagem_escolaridade.sum()\n",
    "\n",
    "\n",
    "# Criando a distribuição acumulada (CDF)\n",
    "cdf = proporcao.cumsum()\n",
    "\n",
    "\n",
    "\n",
    "\n"
   ]
  },
  {
   "cell_type": "code",
   "execution_count": 67,
   "metadata": {},
   "outputs": [
    {
     "data": {
      "image/png": "[encoded data removed]",
      "text/plain": [
       "<Figure size 800x500 with 1 Axes>"
      ]
     },
     "metadata": {},
     "output_type": "display_data"
    }
   ],
   "source": [
    "#Plotando o gráfico da função de densidade acumulada discreta\n",
    "plt.figure(figsize=(8, 5))\n",
    "plt.step(cdf.index, cdf, where=\"mid\", linestyle='-', marker=\"o\", color=\"blue\", label=\"CDF Escolaridade\")\n",
    "\n",
    "plt.xlabel(\"Nível de Escolaridade\")\n",
    "plt.ylabel(\"Probabilidade Acumulada\")\n",
    "plt.title(\"Função de Densidade Acumulada (CDF) - Escolaridade\")\n",
    "plt.xticks(rotation=45)\n",
    "plt.grid()\n",
    "plt.legend()\n",
    "plt.show()"
   ]
  },
  {
   "cell_type": "markdown",
   "metadata": {},
   "source": [
    "8. Qual a margem de erro amostral da proporção populacional\n",
    "considerando a proporção de pessoas com nível de inglês intermediário?\n"
   ]
  },
  {
   "cell_type": "code",
   "execution_count": 69,
   "metadata": {},
   "outputs": [
    {
     "name": "stdout",
     "output_type": "stream",
     "text": [
      "Proporção de pessoas com inglês intermediário: 0.3290\n",
      "Margem de erro amostral: 0.0291 (ou 2.91%)\n"
     ]
    }
   ],
   "source": [
    "# Contando total de pessoas na amostra\n",
    "n = len(df)\n",
    "\n",
    "#Contando pessoas com nível de inglês intermediário\n",
    "total_intermediario = len(df[df[\"nível de proficiência em inglês\"] == \"Intermediário\"])\n",
    "\n",
    "#Calculando a proporção da amostra (p̂)\n",
    "p_hat = total_intermediario / n\n",
    "\n",
    "#Definindo o valor Z para 95% de confiança -  1.96 aproximadamente\n",
    "z = stats.norm.ppf(0.975)  \n",
    "\n",
    "#Calculando a margem de erro (ME)\n",
    "ME = z * np.sqrt((p_hat * (1 - p_hat)) / n)\n",
    "\n",
    "\n",
    "print(f\"Proporção de pessoas com inglês intermediário: {p_hat:.4f}\")\n",
    "print(f\"Margem de erro amostral: {ME:.4f} (ou {ME*100:.2f}%)\")\n"
   ]
  },
  {
   "cell_type": "markdown",
   "metadata": {},
   "source": [
    "9. Calcula a renda da população. Qual a probabilidade de encontrar 60\n",
    "pessoas com uma renda mil reais superior à média?"
   ]
  },
  {
   "cell_type": "code",
   "execution_count": 70,
   "metadata": {},
   "outputs": [
    {
     "name": "stdout",
     "output_type": "stream",
     "text": [
      "Média da renda: R$3082.54\n",
      "Limite considerado: R$4082.54\n"
     ]
    }
   ],
   "source": [
    "# Calculando a média da renda\n",
    "media_renda = df[\"renda\"].mean()\n",
    "\n",
    "#Definindo o limite (R$1.000 acima da média)\n",
    "limite_renda = media_renda + 1000\n",
    "\n",
    "print(f\"Média da renda: R${media_renda:.2f}\")\n",
    "print(f\"Limite considerado: R${limite_renda:.2f}\")\n"
   ]
  },
  {
   "cell_type": "code",
   "execution_count": 71,
   "metadata": {},
   "outputs": [
    {
     "name": "stdout",
     "output_type": "stream",
     "text": [
      "Proporção de pessoas com renda acima do limite: 0.1610\n"
     ]
    }
   ],
   "source": [
    "# Contando quantas pessoas têm renda superior ao limite\n",
    "total_acima_limite = len(df[df[\"renda\"] > limite_renda])\n",
    "\n",
    "# Calculando a proporção\n",
    "p_hat = total_acima_limite / len(df)\n",
    "\n",
    "print(f\"Proporção de pessoas com renda acima do limite: {p_hat:.4f}\")\n"
   ]
  },
  {
   "cell_type": "code",
   "execution_count": 75,
   "metadata": {},
   "outputs": [
    {
     "name": "stdout",
     "output_type": "stream",
     "text": [
      "Probabilidade de encontrar 60 pessoas com renda acima do limite: 0.0000000000\n"
     ]
    }
   ],
   "source": [
    "from scipy.stats import binom\n",
    "\n",
    "# Definir os parâmetros da distribuição binomial\n",
    "n_amostra = 100\n",
    "\n",
    "# Número de pessoas que queremos encontrar\n",
    "k = 60\n",
    "\n",
    "# Proporção de pessoas com renda maior que o limite\n",
    "p = p_hat\n",
    "\n",
    "# Calcular a probabilidade de encontrar 60 pessoas\n",
    "prob_60 = binom.pmf(k, n_amostra, p)\n",
    "\n",
    "print(f\"Probabilidade de encontrar 60 pessoas com renda acima do limite: {prob_60:.10f}\")\n"
   ]
  },
  {
   "cell_type": "markdown",
   "metadata": {},
   "source": [
    "10. Qual é a probabilidade de escolhermos uma pessoa residente na região\n",
    "Sudeste que seja homem, tenha apenas ensino fundamental completo e\n",
    "possua renda mensal superior a 2 mil reais?"
   ]
  },
  {
   "cell_type": "code",
   "execution_count": 77,
   "metadata": {},
   "outputs": [
    {
     "name": "stdout",
     "output_type": "stream",
     "text": [
      "Probabilidade de escolher uma pessoa com essas características: 0.0190 (1.90%)\n"
     ]
    }
   ],
   "source": [
    "# Definindo os estados da região Sudeste\n",
    "estados_sudeste = [\"SP\", \"RJ\", \"MG\", \"ES\"]\n",
    "\n",
    "\n",
    "#Filtrar o conjunto de dados com todas as condições\n",
    "df_sudeste_homens_fundamental = df[\n",
    "    (df[\"estado\"].isin(estados_sudeste)) &\n",
    "    (df[\"sexo\"] == \"M\") &\n",
    "    (df[\"escolaridade\"] == \"Fundamental\") &\n",
    "    (df[\"renda\"] > 2000)\n",
    "]\n",
    "\n",
    "# Contando o total de pessoas que atendem aos critérios\n",
    "total_selecionado = len(df_sudeste_homens_fundamental)\n",
    "\n",
    "# Contando o total da amostra\n",
    "total_amostra = len(df)\n",
    "\n",
    "# Calculando a probabilidade\n",
    "probabilidade = total_selecionado / total_amostra\n",
    "\n",
    "print(f\"Probabilidade de escolher uma pessoa com essas características: {probabilidade:.4f} ({probabilidade*100:.2f}%)\")\n"
   ]
  }
 ],
 "metadata": {
  "kernelspec": {
   "display_name": "Python 3",
   "language": "python",
   "name": "python3"
  },
  "language_info": {
   "codemirror_mode": {
    "name": "ipython",
    "version": 3
   },
   "file_extension": ".py",
   "mimetype": "text/x-python",
   "name": "python",
   "nbconvert_exporter": "python",
   "pygments_lexer": "ipython3",
   "version": "3.11.9"
  }
 },
 "nbformat": 4,
 "nbformat_minor": 2
}
